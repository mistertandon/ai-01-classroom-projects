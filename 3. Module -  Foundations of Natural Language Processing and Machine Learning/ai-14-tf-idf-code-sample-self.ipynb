{
 "cells": [
  {
   "cell_type": "code",
   "execution_count": 52,
   "metadata": {},
   "outputs": [],
   "source": [
    "import matplotlib.pyplot as plt\n",
    "%matplotlib inline\n",
    "\n",
    "import warnings\n",
    "warnings.filterwarnings('ignore')\n",
    "\n",
    "import pandas as pd\n",
    "import numpy as np\n",
    "\n",
    "import sqlite3\n",
    "\n",
    "import nltk\n",
    "from nltk.stem.porter import PorterStemmer\n",
    "from nltk.corpus import stopwords\n",
    "from nltk.stem import PorterStemmer\n",
    "from nltk.stem.wordnet import WordNetLemmatizer\n",
    "\n",
    "import string\n",
    "import re\n",
    "import os\n",
    "import pickle\n",
    "from tqdm import tqdm\n",
    "from bs4 import BeautifulSoup\n",
    "\n",
    "import seaborn as sns\n",
    "\n",
    "from sklearn import metrics\n",
    "from sklearn.metrics import confusion_matrix, auc, roc_curve\n",
    "\n",
    "from sklearn.feature_extraction.text import CountVectorizer\n",
    "from sklearn.feature_extraction.text import TfidfVectorizer\n",
    "from sklearn.feature_extraction.text import TfidfTransformer\n",
    "\n",
    "from gensim.models import Word2Vec, KeyedVectors "
   ]
  },
  {
   "cell_type": "markdown",
   "metadata": {},
   "source": [
    "## [1]. Reading Data"
   ]
  },
  {
   "cell_type": "code",
   "execution_count": 53,
   "metadata": {},
   "outputs": [
    {
     "name": "stdout",
     "output_type": "stream",
     "text": [
      "ai-14-tf-idf-code-sample-ref.ipynb\n",
      "ai-14-tf-idf-code-sample-self.ipynb\n",
      "database.sqlite\n"
     ]
    }
   ],
   "source": [
    "!ls\n"
   ]
  },
  {
   "cell_type": "code",
   "execution_count": 54,
   "metadata": {},
   "outputs": [
    {
     "name": "stdout",
     "output_type": "stream",
     "text": [
      "<sqlite3.Connection object at 0x00000239053FDAB0>\n"
     ]
    }
   ],
   "source": [
    "conn = sqlite3.connect('../data/data_01_amazon_fine_food_review/database.sqlite')\n",
    "print(conn)"
   ]
  },
  {
   "cell_type": "code",
   "execution_count": 55,
   "metadata": {},
   "outputs": [],
   "source": [
    "df = pd.read_sql_query(\"SELECT * FROM Reviews LIMIT 5427\", conn)"
   ]
  },
  {
   "cell_type": "code",
   "execution_count": 56,
   "metadata": {},
   "outputs": [
    {
     "name": "stdout",
     "output_type": "stream",
     "text": [
      "   Id   ProductId          UserId                      ProfileName  \\\n",
      "0   1  B001E4KFG0  A3SGXH7AUHU8GW                       delmartian   \n",
      "1   2  B00813GRG4  A1D87F6ZCVE5NK                           dll pa   \n",
      "2   3  B000LQOCH0   ABXLMWJIXXAIN  Natalia Corres \"Natalia Corres\"   \n",
      "\n",
      "   HelpfulnessNumerator  HelpfulnessDenominator  Score        Time  \\\n",
      "0                     1                       1      5  1303862400   \n",
      "1                     0                       0      1  1346976000   \n",
      "2                     1                       1      4  1219017600   \n",
      "\n",
      "                 Summary                                               Text  \n",
      "0  Good Quality Dog Food  I have bought several of the Vitality canned d...  \n",
      "1      Not as Advertised  Product arrived labeled as Jumbo Salted Peanut...  \n",
      "2  \"Delight\" says it all  This is a confection that has been around a fe...  \n"
     ]
    }
   ],
   "source": [
    "print(df.head(n = 3))"
   ]
  },
  {
   "cell_type": "markdown",
   "metadata": {},
   "source": [
    "### [1.] Available columns in DataFrame"
   ]
  },
  {
   "cell_type": "code",
   "execution_count": 57,
   "metadata": {},
   "outputs": [
    {
     "name": "stdout",
     "output_type": "stream",
     "text": [
      "Index(['Id', 'ProductId', 'UserId', 'ProfileName', 'HelpfulnessNumerator',\n",
      "       'HelpfulnessDenominator', 'Score', 'Time', 'Summary', 'Text'],\n",
      "      dtype='object')\n"
     ]
    }
   ],
   "source": [
    "print(df.columns)"
   ]
  },
  {
   "cell_type": "markdown",
   "metadata": {},
   "source": [
    "### [1.] Columns and their DataType"
   ]
  },
  {
   "cell_type": "code",
   "execution_count": 58,
   "metadata": {},
   "outputs": [
    {
     "name": "stdout",
     "output_type": "stream",
     "text": [
      "Id                         int64\n",
      "ProductId                 object\n",
      "UserId                    object\n",
      "ProfileName               object\n",
      "HelpfulnessNumerator       int64\n",
      "HelpfulnessDenominator     int64\n",
      "Score                      int64\n",
      "Time                       int64\n",
      "Summary                   object\n",
      "Text                      object\n",
      "dtype: object\n"
     ]
    }
   ],
   "source": [
    "print(df.dtypes)"
   ]
  },
  {
   "cell_type": "markdown",
   "metadata": {},
   "source": [
    "> For Amazon fine food review database, It has one column `score`\n",
    "<br>\n"
   ]
  },
  {
   "cell_type": "markdown",
   "metadata": {},
   "source": [
    "### [1.]. Filter out reviews having score equal to 3 as  these are consider as neutral"
   ]
  },
  {
   "cell_type": "code",
   "execution_count": 59,
   "metadata": {},
   "outputs": [
    {
     "name": "stdout",
     "output_type": "stream",
     "text": [
      "   Id   ProductId          UserId                      ProfileName  \\\n",
      "0   1  B001E4KFG0  A3SGXH7AUHU8GW                       delmartian   \n",
      "1   2  B00813GRG4  A1D87F6ZCVE5NK                           dll pa   \n",
      "2   3  B000LQOCH0   ABXLMWJIXXAIN  Natalia Corres \"Natalia Corres\"   \n",
      "\n",
      "   HelpfulnessNumerator  HelpfulnessDenominator  Score        Time  \\\n",
      "0                     1                       1      5  1303862400   \n",
      "1                     0                       0      1  1346976000   \n",
      "2                     1                       1      4  1219017600   \n",
      "\n",
      "                 Summary                                               Text  \n",
      "0  Good Quality Dog Food  I have bought several of the Vitality canned d...  \n",
      "1      Not as Advertised  Product arrived labeled as Jumbo Salted Peanut...  \n",
      "2  \"Delight\" says it all  This is a confection that has been around a fe...  \n"
     ]
    }
   ],
   "source": [
    "df = df.loc[(df['Score'] < 3) | (df['Score'] > 3)]\n",
    "print(df.head(n = 3))"
   ]
  },
  {
   "cell_type": "markdown",
   "metadata": {},
   "source": [
    "### [1.]. Update existing column score based on belown condition\n",
    "- Reviews corresponding to score :\n",
    "  - 4 and 5, would be consider as positive review (1)\n",
    "  - 1 and 2, would be consider as negative review (0)\n"
   ]
  },
  {
   "cell_type": "code",
   "execution_count": 60,
   "metadata": {},
   "outputs": [
    {
     "name": "stdout",
     "output_type": "stream",
     "text": [
      "   Id   ProductId          UserId                      ProfileName  \\\n",
      "0   1  B001E4KFG0  A3SGXH7AUHU8GW                       delmartian   \n",
      "1   2  B00813GRG4  A1D87F6ZCVE5NK                           dll pa   \n",
      "2   3  B000LQOCH0   ABXLMWJIXXAIN  Natalia Corres \"Natalia Corres\"   \n",
      "\n",
      "   HelpfulnessNumerator  HelpfulnessDenominator  Score        Time  \\\n",
      "0                     1                       1      1  1303862400   \n",
      "1                     0                       0      0  1346976000   \n",
      "2                     1                       1      1  1219017600   \n",
      "\n",
      "                 Summary                                               Text  \n",
      "0  Good Quality Dog Food  I have bought several of the Vitality canned d...  \n",
      "1      Not as Advertised  Product arrived labeled as Jumbo Salted Peanut...  \n",
      "2  \"Delight\" says it all  This is a confection that has been around a fe...  \n"
     ]
    }
   ],
   "source": [
    "df['Score'] = df['Score'].map(lambda score: 1 if score > 3 else 0)\n",
    "print(df.head(n = 3))"
   ]
  },
  {
   "cell_type": "code",
   "execution_count": 61,
   "metadata": {},
   "outputs": [
    {
     "name": "stdout",
     "output_type": "stream",
     "text": [
      "DataFrame shape : (5000, 10)\n"
     ]
    }
   ],
   "source": [
    "# DataFrame shape\n",
    "print(\"DataFrame shape : {}\".format(df.shape))"
   ]
  },
  {
   "cell_type": "code",
   "execution_count": 62,
   "metadata": {},
   "outputs": [
    {
     "name": "stdout",
     "output_type": "stream",
     "text": [
      "DataFrame shape : (80668, 7)\n",
      "               UserId   ProductId             ProfileName  Score        Time  \\\n",
      "0  #oc-R115TNMSPFT9I7  B007Y59HVM                 Breyton      2  1331510400   \n",
      "1  #oc-R11D9D7SHXIJB9  B005HG9ET0  Louis E. Emory \"hoppy\"      5  1342396800   \n",
      "2  #oc-R11DNU2NBKQ23Z  B007Y59HVM        Kim Cieszykowski      1  1348531200   \n",
      "3  #oc-R11O5J5ZVQE25C  B005HG9ET0           Penguin Chick      5  1346889600   \n",
      "4  #oc-R12KPBODL2B5ZD  B007OSBE1U   Christopher P. Presta      1  1348617600   \n",
      "\n",
      "                                                Text  record  \n",
      "0  Overall its just OK when considering the price...       2  \n",
      "1  My wife has recurring extreme muscle spasms, u...       3  \n",
      "2  This coffee is horrible and unfortunately not ...       2  \n",
      "3  This will be the bottle that you grab from the...       3  \n",
      "4  I didnt like this coffee. Instead of telling y...       2  \n"
     ]
    }
   ],
   "source": [
    "display = pd.read_sql_query(\"SELECT UserId, ProductId, ProfileName, Score, Time, Text, COUNT(*) AS record FROM Reviews GROUP BY UserId HAVING record > 1\", conn)\n",
    "\n",
    "print(\"DataFrame shape : {}\".format(display.shape))\n",
    "print(display.head(n = 5))"
   ]
  },
  {
   "cell_type": "markdown",
   "metadata": {},
   "source": [
    "#### [1..1]. Get one user record"
   ]
  },
  {
   "cell_type": "code",
   "execution_count": 63,
   "metadata": {},
   "outputs": [
    {
     "name": "stdout",
     "output_type": "stream",
     "text": [
      "               UserId   ProductId            ProfileName  Score        Time  \\\n",
      "4  #oc-R12KPBODL2B5ZD  B007OSBE1U  Christopher P. Presta      1  1348617600   \n",
      "\n",
      "                                                Text  record  \n",
      "4  I didnt like this coffee. Instead of telling y...       2  \n"
     ]
    }
   ],
   "source": [
    "print(display[display['UserId'] == '#oc-R12KPBODL2B5ZD'])"
   ]
  },
  {
   "cell_type": "code",
   "execution_count": 64,
   "metadata": {},
   "outputs": [
    {
     "name": "stdout",
     "output_type": "stream",
     "text": [
      "Record count : 393063\n"
     ]
    }
   ],
   "source": [
    "record_count = display['record'].sum()\n",
    "print(\"Record count : {}\".format(record_count))"
   ]
  },
  {
   "cell_type": "markdown",
   "metadata": {},
   "source": [
    "## [2]. Exploratory Data Analysis"
   ]
  },
  {
   "cell_type": "markdown",
   "metadata": {},
   "source": [
    "### [2.]. Data Cleaning: Deduplication"
   ]
  },
  {
   "cell_type": "markdown",
   "metadata": {},
   "source": [
    "#### [2.]. Sort DataFrame based on ProductId"
   ]
  },
  {
   "cell_type": "code",
   "execution_count": 65,
   "metadata": {},
   "outputs": [
    {
     "name": "stdout",
     "output_type": "stream",
     "text": [
      "Duplicate records DataFrame shape: (14, 10)\n",
      "        Id   ProductId          UserId   ProfileName  HelpfulnessNumerator  \\\n",
      "29      30  B0001PB9FY  A3HDKO7OW0QNK4  Canadian Fan                     1   \n",
      "574    575  B000G6RYNE  A3PJZ8TU8FDQ1K  Jared Castle                     2   \n",
      "2309  2310  B0001VWE0M   AQM74O8Z4FMS0      Sunshine                     0   \n",
      "\n",
      "      HelpfulnessDenominator  Score        Time  \\\n",
      "29                         1      1  1107820800   \n",
      "574                        2      1  1231718400   \n",
      "2309                       0      0  1127606400   \n",
      "\n",
      "                                          Summary  \\\n",
      "29                The Best Hot Sauce in the World   \n",
      "574   One bite and you'll become a \"chippoisseur\"   \n",
      "2309                               Below standard   \n",
      "\n",
      "                                                   Text  \n",
      "29    I don't know if it's the cactus or the tequila...  \n",
      "574   I'm addicted to salty and tangy flavors, so wh...  \n",
      "2309  Too much of the white pith on this orange peel...  \n"
     ]
    }
   ],
   "source": [
    "dup_records = df[df.duplicated(subset = ['UserId', 'ProfileName', 'Time', 'Text'])]\n",
    "print(\"Duplicate records DataFrame shape: {}\".format(dup_records.shape))\n",
    "print(dup_records.head(n = 3))"
   ]
  },
  {
   "cell_type": "code",
   "execution_count": 66,
   "metadata": {},
   "outputs": [
    {
     "name": "stdout",
     "output_type": "stream",
     "text": [
      "        Id   ProductId          UserId                           ProfileName  \\\n",
      "2773  2774  B00002NCJC  A196AJHU9EASJN                          Alex Chaffee   \n",
      "2774  2775  B00002NCJC  A13RRPGE79XFFH                              reader48   \n",
      "1243  1244  B00002Z754  A3B8RCEI0FXFI6                             B G Chase   \n",
      "1244  1245  B00002Z754  A29Z5PI9BW2PU3                                Robbie   \n",
      "3203  3204  B000084DVR  A1UGDJP1ZJWVPF          T. Moore \"thoughtful reader\"   \n",
      "3202  3203  B000084DVR  A3DKGXWUEP1AI2           Glenna E. Bauer \"Puppy Mum\"   \n",
      "1160  1161  B000084E1U  A3DH85EYHW4AQH                          Eric Hochman   \n",
      "2379  2380  B0000CGFV4  A3LSUKN4IFS6VD                         Internet Diva   \n",
      "5096  5097  B0000D94SZ  A2R91PG1XPNO0B  Kotton Kandee \"not so secretshopper\"   \n",
      "2255  2256  B0000DC5IY    AGYZZ3QXV9S8      Dr. Glenn B. Gero \"NJnaturaldoc\"   \n",
      "\n",
      "      HelpfulnessNumerator  HelpfulnessDenominator  Score        Time  \\\n",
      "2773                     0                       0      1  1282953600   \n",
      "2774                     0                       0      1  1281052800   \n",
      "1243                    10                      10      1   962236800   \n",
      "1244                     7                       7      1   961718400   \n",
      "3203                     1                       1      1  1177977600   \n",
      "3202                     3                       3      1  1163030400   \n",
      "1160                     1                       1      1  1140739200   \n",
      "2379                     0                       0      1  1312416000   \n",
      "5096                     4                       4      1  1184198400   \n",
      "2255                     3                       4      0  1289865600   \n",
      "\n",
      "                                                Summary  \\\n",
      "2773                                      thirty bucks?   \n",
      "2774                                       Flies Begone   \n",
      "1243                     WOW Make your own 'slickers' !   \n",
      "1244                                      Great Product   \n",
      "3203                                        Good stuff!   \n",
      "3202                        Premium Quality Dog Food!!!   \n",
      "1160                                      Cats love it!   \n",
      "2379               Nice, Big Pieces & Big Almond Flavor   \n",
      "5096                A Summer Treat Fat Free, Guilt Free   \n",
      "2255  Don't buy this product unless you are looking ...   \n",
      "\n",
      "                                                   Text  \n",
      "2773  Why is this $[...] when the same product is av...  \n",
      "2774  We have used the Victor fly bait for 3 seasons...  \n",
      "1243  I just received my shipment and could hardly w...  \n",
      "1244  This was a really good idea and the final prod...  \n",
      "3203  I'm glad my 45lb cocker/standard poodle puppy ...  \n",
      "3202  We have been using this food for about 6 month...  \n",
      "1160  I have nine cats and they are crazy about thes...  \n",
      "2379  These were shipped out the day after I ordered...  \n",
      "5096  This mix is probably not something you would w...  \n",
      "2255  The description of this product is disceptive....  \n",
      "(5000, 10)\n"
     ]
    }
   ],
   "source": [
    "sorted_df = df.sort_values(\"ProductId\", axis = 0, ascending  = True, inplace = False, kind = 'quicksort', na_position = 'last')\n",
    "print(sorted_df.head(n = 10))\n",
    "print(sorted_df.shape)"
   ]
  },
  {
   "cell_type": "code",
   "execution_count": 67,
   "metadata": {},
   "outputs": [
    {
     "name": "stdout",
     "output_type": "stream",
     "text": [
      "(4986, 10)\n",
      "        Id   ProductId          UserId                   ProfileName  \\\n",
      "2773  2774  B00002NCJC  A196AJHU9EASJN                  Alex Chaffee   \n",
      "2774  2775  B00002NCJC  A13RRPGE79XFFH                      reader48   \n",
      "1243  1244  B00002Z754  A3B8RCEI0FXFI6                     B G Chase   \n",
      "1244  1245  B00002Z754  A29Z5PI9BW2PU3                        Robbie   \n",
      "3203  3204  B000084DVR  A1UGDJP1ZJWVPF  T. Moore \"thoughtful reader\"   \n",
      "\n",
      "      HelpfulnessNumerator  HelpfulnessDenominator  Score        Time  \\\n",
      "2773                     0                       0      1  1282953600   \n",
      "2774                     0                       0      1  1281052800   \n",
      "1243                    10                      10      1   962236800   \n",
      "1244                     7                       7      1   961718400   \n",
      "3203                     1                       1      1  1177977600   \n",
      "\n",
      "                             Summary  \\\n",
      "2773                   thirty bucks?   \n",
      "2774                    Flies Begone   \n",
      "1243  WOW Make your own 'slickers' !   \n",
      "1244                   Great Product   \n",
      "3203                     Good stuff!   \n",
      "\n",
      "                                                   Text  \n",
      "2773  Why is this $[...] when the same product is av...  \n",
      "2774  We have used the Victor fly bait for 3 seasons...  \n",
      "1243  I just received my shipment and could hardly w...  \n",
      "1244  This was a really good idea and the final prod...  \n",
      "3203  I'm glad my 45lb cocker/standard poodle puppy ...  \n"
     ]
    }
   ],
   "source": [
    "final = sorted_df.drop_duplicates(subset = ['UserId', 'ProfileName', 'Time', 'Text'])\n",
    "print(final.shape)\n",
    "print(final.head())"
   ]
  },
  {
   "cell_type": "code",
   "execution_count": 68,
   "metadata": {},
   "outputs": [
    {
     "name": "stdout",
     "output_type": "stream",
     "text": [
      "0.9972\n"
     ]
    }
   ],
   "source": [
    "#Checking how much % of data still remains\n",
    "rem_data = np.divide(final['Id'].size, df['Id'].size)\n",
    "print(rem_data)"
   ]
  },
  {
   "cell_type": "markdown",
   "metadata": {},
   "source": [
    "### [2.]. Data Cleaning: invalid data check"
   ]
  },
  {
   "cell_type": "code",
   "execution_count": 69,
   "metadata": {},
   "outputs": [
    {
     "name": "stdout",
     "output_type": "stream",
     "text": [
      "Invalid DataFrame shape: (4986, 10)\n",
      "        Id   ProductId          UserId                   ProfileName  \\\n",
      "2773  2774  B00002NCJC  A196AJHU9EASJN                  Alex Chaffee   \n",
      "2774  2775  B00002NCJC  A13RRPGE79XFFH                      reader48   \n",
      "1243  1244  B00002Z754  A3B8RCEI0FXFI6                     B G Chase   \n",
      "1244  1245  B00002Z754  A29Z5PI9BW2PU3                        Robbie   \n",
      "3203  3204  B000084DVR  A1UGDJP1ZJWVPF  T. Moore \"thoughtful reader\"   \n",
      "\n",
      "      HelpfulnessNumerator  HelpfulnessDenominator  Score        Time  \\\n",
      "2773                     0                       0      1  1282953600   \n",
      "2774                     0                       0      1  1281052800   \n",
      "1243                    10                      10      1   962236800   \n",
      "1244                     7                       7      1   961718400   \n",
      "3203                     1                       1      1  1177977600   \n",
      "\n",
      "                             Summary  \\\n",
      "2773                   thirty bucks?   \n",
      "2774                    Flies Begone   \n",
      "1243  WOW Make your own 'slickers' !   \n",
      "1244                   Great Product   \n",
      "3203                     Good stuff!   \n",
      "\n",
      "                                                   Text  \n",
      "2773  Why is this $[...] when the same product is av...  \n",
      "2774  We have used the Victor fly bait for 3 seasons...  \n",
      "1243  I just received my shipment and could hardly w...  \n",
      "1244  This was a really good idea and the final prod...  \n",
      "3203  I'm glad my 45lb cocker/standard poodle puppy ...  \n"
     ]
    }
   ],
   "source": [
    "data_sanity_i = final[final['HelpfulnessNumerator'] <= final['HelpfulnessDenominator']]  \n",
    "print(\"Invalid DataFrame shape: {}\".format(data_sanity_i.shape))\n",
    "print(data_sanity_i.head())"
   ]
  },
  {
   "cell_type": "markdown",
   "metadata": {},
   "source": [
    "#### [2.]. Data Cleaning: After data sanity group data based on negative and positive review"
   ]
  },
  {
   "cell_type": "code",
   "execution_count": 70,
   "metadata": {},
   "outputs": [
    {
     "name": "stdout",
     "output_type": "stream",
     "text": [
      "1    4178\n",
      "0     808\n",
      "Name: Score, dtype: int64\n"
     ]
    }
   ],
   "source": [
    "aggregated_scores = data_sanity_i['Score'].value_counts()\n",
    "print(aggregated_scores)"
   ]
  },
  {
   "cell_type": "markdown",
   "metadata": {},
   "source": [
    "## [3]. Text processing"
   ]
  },
  {
   "cell_type": "markdown",
   "metadata": {},
   "source": [
    "#### [3.]. Get Text insight"
   ]
  },
  {
   "cell_type": "code",
   "execution_count": 71,
   "metadata": {},
   "outputs": [],
   "source": [
    "def display_series_n_rows(series_list, n = 5):\n",
    "    \n",
    "    for index, item in enumerate(series_list):\n",
    "        print(item)\n",
    "        print(\"====\"*20)\n",
    "        if index == n:\n",
    "            break\n",
    "    \n",
    "    return"
   ]
  },
  {
   "cell_type": "code",
   "execution_count": 72,
   "metadata": {},
   "outputs": [
    {
     "name": "stdout",
     "output_type": "stream",
     "text": [
      "Series.values data type : <class 'numpy.ndarray'>\n",
      "Columns Text lenght : 4986\n"
     ]
    }
   ],
   "source": [
    "# Print randomly data\n",
    "text_list = data_sanity_i['Text'].values\n",
    "print(\"Series.values data type : {}\".format(type(text_list)))\n",
    "print(\"Columns Text lenght : {}\".format(text_list.size))"
   ]
  },
  {
   "cell_type": "markdown",
   "metadata": {},
   "source": [
    "#### [3.]. Remove URL's from text"
   ]
  },
  {
   "cell_type": "code",
   "execution_count": 73,
   "metadata": {},
   "outputs": [
    {
     "name": "stdout",
     "output_type": "stream",
     "text": [
      "Why is this $[...] when the same product is available for $[...] here?<br />http://www.amazon.com/VICTOR-FLY-MAGNET-BAIT-REFILL/dp/B00004RBDY<br /><br />The Victor M380 and M502 traps are unreal, of course -- total fly genocide. Pretty stinky, but only right nearby.\n"
     ]
    }
   ],
   "source": [
    "text_0 = \"Why is this $[...] when the same product is available for $[...] here?<br />http://www.amazon.com/VICTOR-FLY-MAGNET-BAIT-REFILL/dp/B00004RBDY<br /><br />The Victor M380 and M502 traps are unreal, of course -- total fly genocide. Pretty stinky, but only right nearby.\"\n",
    "print(text_0)"
   ]
  },
  {
   "cell_type": "code",
   "execution_count": 74,
   "metadata": {},
   "outputs": [
    {
     "name": "stdout",
     "output_type": "stream",
     "text": [
      "Why is this $[...] when the same product is available for $[...] here?<br /> /><br />The Victor M380 and M502 traps are unreal, of course -- total fly genocide. Pretty stinky, but only right nearby.\n"
     ]
    }
   ],
   "source": [
    "print(re.sub('https\\S+|http\\S+', \"\", text_0))"
   ]
  },
  {
   "cell_type": "markdown",
   "metadata": {},
   "source": [
    "#### [3.]. Perform decontracted operation"
   ]
  },
  {
   "cell_type": "code",
   "execution_count": 75,
   "metadata": {},
   "outputs": [],
   "source": [
    "def decontracted(phrase):\n",
    "    # specific\n",
    "    phrase = re.sub(r\"won't\", \"will not\", phrase)\n",
    "    phrase = re.sub(r\"can\\'t\", \"can not\", phrase)\n",
    "\n",
    "    # general\n",
    "    phrase = re.sub(r\"n\\'t\", \" not\", phrase)\n",
    "    phrase = re.sub(r\"\\'re\", \" are\", phrase)\n",
    "    phrase = re.sub(r\"\\'s\", \" is\", phrase)\n",
    "    phrase = re.sub(r\"\\'d\", \" would\", phrase)\n",
    "    phrase = re.sub(r\"\\'ll\", \" will\", phrase)\n",
    "    phrase = re.sub(r\"\\'t\", \" not\", phrase)\n",
    "    phrase = re.sub(r\"\\'ve\", \" have\", phrase)\n",
    "    phrase = re.sub(r\"\\'m\", \" am\", phrase)\n",
    "    return phrase"
   ]
  },
  {
   "cell_type": "code",
   "execution_count": 76,
   "metadata": {},
   "outputs": [
    {
     "name": "stdout",
     "output_type": "stream",
     "text": [
      "had not he will I am I have might not\n"
     ]
    }
   ],
   "source": [
    "text_1 = decontracted(text_1)\n",
    "print(text_1)"
   ]
  },
  {
   "cell_type": "markdown",
   "metadata": {},
   "source": [
    "#### [3.]. Python/BeautifulSoup - Remove all tags from an element"
   ]
  },
  {
   "cell_type": "code",
   "execution_count": 77,
   "metadata": {},
   "outputs": [],
   "source": [
    "from bs4 import BeautifulSoup"
   ]
  },
  {
   "cell_type": "code",
   "execution_count": 78,
   "metadata": {},
   "outputs": [],
   "source": [
    "def remove_all_tags(text):\n",
    "    \n",
    "    soup = BeautifulSoup(text, \"lxml\")\n",
    "\n",
    "    return soup.get_text()"
   ]
  },
  {
   "cell_type": "code",
   "execution_count": 79,
   "metadata": {},
   "outputs": [
    {
     "name": "stdout",
     "output_type": "stream",
     "text": [
      "ok it look good, Keep up the good work\n"
     ]
    }
   ],
   "source": [
    "text_2 = remove_all_tags(text_2)\n",
    "print(text_2)"
   ]
  },
  {
   "cell_type": "markdown",
   "metadata": {},
   "source": [
    "#### [3.]. Remove words with number"
   ]
  },
  {
   "cell_type": "code",
   "execution_count": 80,
   "metadata": {},
   "outputs": [
    {
     "name": "stdout",
     "output_type": "stream",
     "text": [
      "number is  present, please  asap\n"
     ]
    }
   ],
   "source": [
    "text_3 = re.sub(\"\\S*\\d\\S*\", \"\", text_3)\n",
    "print(text_3)"
   ]
  },
  {
   "cell_type": "markdown",
   "metadata": {},
   "source": [
    "#### [3.]. Remove special characters"
   ]
  },
  {
   "cell_type": "code",
   "execution_count": 81,
   "metadata": {},
   "outputs": [
    {
     "name": "stdout",
     "output_type": "stream",
     "text": [
      "Why is this when the same product is available for here \n"
     ]
    }
   ],
   "source": [
    "text_4 = \"Why is this $[...] when the @$#^*&\\(\\) same product is available for $[...] here?\"\n",
    "text_4 = re.sub(\"[^A-Za-z0-9]+\", \" \", text_4)\n",
    "print(text_4)"
   ]
  },
  {
   "cell_type": "markdown",
   "metadata": {},
   "source": [
    "#### [3.]. Remove stop characters"
   ]
  },
  {
   "cell_type": "code",
   "execution_count": 82,
   "metadata": {},
   "outputs": [],
   "source": [
    "stopwords = set(['br', 'the', 'i', 'me', 'my', 'myself', 'we', 'our', 'ours', 'ourselves', 'you', \"you're\", \"you've\",\\\n",
    "            \"you'll\", \"you'd\", 'your', 'yours', 'yourself', 'yourselves', 'he', 'him', 'his', 'himself', \\\n",
    "            'she', \"she's\", 'her', 'hers', 'herself', 'it', \"it's\", 'its', 'itself', 'they', 'them', 'their',\\\n",
    "            'theirs', 'themselves', 'what', 'which', 'who', 'whom', 'this', 'that', \"that'll\", 'these', 'those', \\\n",
    "            'am', 'is', 'are', 'was', 'were', 'be', 'been', 'being', 'have', 'has', 'had', 'having', 'do', 'does', \\\n",
    "            'did', 'doing', 'a', 'an', 'the', 'and', 'but', 'if', 'or', 'because', 'as', 'until', 'while', 'of', \\\n",
    "            'at', 'by', 'for', 'with', 'about', 'against', 'between', 'into', 'through', 'during', 'before', 'after',\\\n",
    "            'above', 'below', 'to', 'from', 'up', 'down', 'in', 'out', 'on', 'off', 'over', 'under', 'again', 'further',\\\n",
    "            'then', 'once', 'here', 'there', 'when', 'where', 'why', 'how', 'all', 'any', 'both', 'each', 'few', 'more',\\\n",
    "            'most', 'other', 'some', 'such', 'only', 'own', 'same', 'so', 'than', 'too', 'very', \\\n",
    "            's', 't', 'can', 'will', 'just', 'don', \"don't\", 'should', \"should've\", 'now', 'd', 'll', 'm', 'o', 're', \\\n",
    "            've', 'y', 'ain', 'aren', \"aren't\", 'couldn', \"couldn't\", 'didn', \"didn't\", 'doesn', \"doesn't\", 'hadn',\\\n",
    "            \"hadn't\", 'hasn', \"hasn't\", 'haven', \"haven't\", 'isn', \"isn't\", 'ma', 'mightn', \"mightn't\", 'mustn',\\\n",
    "            \"mustn't\", 'needn', \"needn't\", 'shan', \"shan't\", 'shouldn', \"shouldn't\", 'wasn', \"wasn't\", 'weren', \"weren't\", \\\n",
    "            'won', \"won't\", 'wouldn', \"wouldn't\"])"
   ]
  },
  {
   "cell_type": "code",
   "execution_count": 87,
   "metadata": {},
   "outputs": [
    {
     "name": "stdout",
     "output_type": "stream",
     "text": [
      "not going anywhere till target not get achieved.\n"
     ]
    }
   ],
   "source": [
    "text_5 = \"I am not going anywhere till target did not get achieved.\"\n",
    "text_5 = \" \".join(word.lower() for word in text_5.split() if word.lower() not in stopwords) \n",
    "print(text_5)"
   ]
  },
  {
   "cell_type": "code",
   "execution_count": 88,
   "metadata": {},
   "outputs": [],
   "source": [
    "def preprocessing_text(raw_txt):\n",
    "    \n",
    "    cleaned_txt = \"\"\n",
    "    cleaned_txt = re.sub('https\\S+|http\\S+', \"\", raw_txt)\n",
    "    cleaned_txt = decontracted(cleaned_txt)\n",
    "    cleaned_txt = BeautifulSoup(cleaned_txt, \"lxml\").get_text()\n",
    "    cleaned_txt = re.sub(\"\\S*\\d\\S*\", \"\", cleaned_txt)\n",
    "    cleaned_txt = re.sub(\"[^A-Za-z0-9]+\", \" \", cleaned_txt)\n",
    "    cleaned_txt = \" \".join(word.lower() for word in cleaned_txt.split() if word.lower() not in stopwords) \n",
    "    \n",
    "    return cleaned_txt"
   ]
  },
  {
   "cell_type": "code",
   "execution_count": 89,
   "metadata": {},
   "outputs": [
    {
     "data": {
      "text/plain": [
       "2773    Why is this when the same product is available...\n",
       "2774    We have used the Victor fly bait for seasons C...\n",
       "1243    I just received my shipment and could hardly w...\n",
       "1244    This was a really good idea and the final prod...\n",
       "3203    I am glad my cocker standard poodle puppy love...\n",
       "Name: Text, dtype: object"
      ]
     },
     "execution_count": 89,
     "metadata": {},
     "output_type": "execute_result"
    }
   ],
   "source": [
    "data_sanity_i['Text'].head()"
   ]
  },
  {
   "cell_type": "code",
   "execution_count": 90,
   "metadata": {},
   "outputs": [],
   "source": [
    "data_sanity_i['Text'] = data_sanity_i['Text'].map(preprocessing_text)"
   ]
  },
  {
   "cell_type": "code",
   "execution_count": 91,
   "metadata": {},
   "outputs": [
    {
     "name": "stdout",
     "output_type": "stream",
     "text": [
      "        Id   ProductId          UserId                   ProfileName  \\\n",
      "2773  2774  B00002NCJC  A196AJHU9EASJN                  Alex Chaffee   \n",
      "2774  2775  B00002NCJC  A13RRPGE79XFFH                      reader48   \n",
      "1243  1244  B00002Z754  A3B8RCEI0FXFI6                     B G Chase   \n",
      "1244  1245  B00002Z754  A29Z5PI9BW2PU3                        Robbie   \n",
      "3203  3204  B000084DVR  A1UGDJP1ZJWVPF  T. Moore \"thoughtful reader\"   \n",
      "\n",
      "      HelpfulnessNumerator  HelpfulnessDenominator  Score        Time  \\\n",
      "2773                     0                       0      1  1282953600   \n",
      "2774                     0                       0      1  1281052800   \n",
      "1243                    10                      10      1   962236800   \n",
      "1244                     7                       7      1   961718400   \n",
      "3203                     1                       1      1  1177977600   \n",
      "\n",
      "                             Summary  \\\n",
      "2773                   thirty bucks?   \n",
      "2774                    Flies Begone   \n",
      "1243  WOW Make your own 'slickers' !   \n",
      "1244                   Great Product   \n",
      "3203                     Good stuff!   \n",
      "\n",
      "                                                   Text  \n",
      "2773  product available victor traps unreal course t...  \n",
      "2774  used victor fly bait seasons ca not beat great...  \n",
      "1243  received shipment could hardly wait try produc...  \n",
      "1244  really good idea final product outstanding use...  \n",
      "3203  glad cocker standard poodle puppy loves stuff ...  \n"
     ]
    }
   ],
   "source": [
    "print(data_sanity_i.head())"
   ]
  },
  {
   "cell_type": "code",
   "execution_count": null,
   "metadata": {},
   "outputs": [],
   "source": []
  },
  {
   "cell_type": "code",
   "execution_count": null,
   "metadata": {},
   "outputs": [],
   "source": []
  }
 ],
 "metadata": {
  "colab": {
   "collapsed_sections": [],
   "name": "Amazon Fine Food Reviews Analysis.ipynb",
   "provenance": []
  },
  "kernelspec": {
   "display_name": "Python 3",
   "language": "python",
   "name": "python3"
  },
  "language_info": {
   "codemirror_mode": {
    "name": "ipython",
    "version": 3
   },
   "file_extension": ".py",
   "mimetype": "text/x-python",
   "name": "python",
   "nbconvert_exporter": "python",
   "pygments_lexer": "ipython3",
   "version": "3.7.0"
  }
 },
 "nbformat": 4,
 "nbformat_minor": 1
}
