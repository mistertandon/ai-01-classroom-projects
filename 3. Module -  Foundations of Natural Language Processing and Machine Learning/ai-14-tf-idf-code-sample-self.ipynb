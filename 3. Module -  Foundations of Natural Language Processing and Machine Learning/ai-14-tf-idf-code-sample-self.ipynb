{
 "cells": [
  {
   "cell_type": "code",
   "execution_count": 28,
   "metadata": {},
   "outputs": [],
   "source": [
    "import matplotlib.pyplot as plt\n",
    "%matplotlib inline\n",
    "\n",
    "import warnings\n",
    "warnings.filterwarnings('ignore')\n",
    "\n",
    "import pandas as pd\n",
    "import numpy as np\n",
    "\n",
    "import sqlite3\n",
    "\n",
    "import nltk\n",
    "from nltk.stem.porter import PorterStemmer\n",
    "from nltk.corpus import stopwords\n",
    "from nltk.stem import PorterStemmer\n",
    "from nltk.stem.wordnet import WordNetLemmatizer\n",
    "\n",
    "import string\n",
    "import re\n",
    "import os\n",
    "import pickle\n",
    "from tqdm import tqdm\n",
    "\n",
    "import seaborn as sns\n",
    "\n",
    "from sklearn import metrics\n",
    "from sklearn.metrics import confusion_matrix, auc, roc_curve\n",
    "\n",
    "from sklearn.feature_extraction.text import CountVectorizer\n",
    "from sklearn.feature_extraction.text import TfidfVectorizer\n",
    "from sklearn.feature_extraction.text import TfidfTransformer\n",
    "\n",
    "from gensim.models import Word2Vec, KeyedVectors "
   ]
  },
  {
   "cell_type": "markdown",
   "metadata": {},
   "source": [
    "## [1]. Reading Data"
   ]
  },
  {
   "cell_type": "code",
   "execution_count": 29,
   "metadata": {},
   "outputs": [
    {
     "name": "stdout",
     "output_type": "stream",
     "text": [
      "ai-14-tf-idf-code-sample-ref.ipynb\n",
      "ai-14-tf-idf-code-sample-self.ipynb\n",
      "database.sqlite\n"
     ]
    }
   ],
   "source": [
    "!ls\n"
   ]
  },
  {
   "cell_type": "code",
   "execution_count": 30,
   "metadata": {},
   "outputs": [
    {
     "name": "stdout",
     "output_type": "stream",
     "text": [
      "<sqlite3.Connection object at 0x000001AE45031030>\n"
     ]
    }
   ],
   "source": [
    "conn = sqlite3.connect('../data/data_01_amazon_fine_food_review/database.sqlite')\n",
    "print(conn)"
   ]
  },
  {
   "cell_type": "code",
   "execution_count": 31,
   "metadata": {},
   "outputs": [],
   "source": [
    "df = pd.read_sql_query(\"SELECT * FROM Reviews LIMIT 5427\", conn)"
   ]
  },
  {
   "cell_type": "code",
   "execution_count": 32,
   "metadata": {},
   "outputs": [
    {
     "name": "stdout",
     "output_type": "stream",
     "text": [
      "   Id   ProductId          UserId                      ProfileName  \\\n",
      "0   1  B001E4KFG0  A3SGXH7AUHU8GW                       delmartian   \n",
      "1   2  B00813GRG4  A1D87F6ZCVE5NK                           dll pa   \n",
      "2   3  B000LQOCH0   ABXLMWJIXXAIN  Natalia Corres \"Natalia Corres\"   \n",
      "\n",
      "   HelpfulnessNumerator  HelpfulnessDenominator  Score        Time  \\\n",
      "0                     1                       1      5  1303862400   \n",
      "1                     0                       0      1  1346976000   \n",
      "2                     1                       1      4  1219017600   \n",
      "\n",
      "                 Summary                                               Text  \n",
      "0  Good Quality Dog Food  I have bought several of the Vitality canned d...  \n",
      "1      Not as Advertised  Product arrived labeled as Jumbo Salted Peanut...  \n",
      "2  \"Delight\" says it all  This is a confection that has been around a fe...  \n"
     ]
    }
   ],
   "source": [
    "print(df.head(n = 3))"
   ]
  },
  {
   "cell_type": "markdown",
   "metadata": {},
   "source": [
    "### [1.] Available columns in DataFrame"
   ]
  },
  {
   "cell_type": "code",
   "execution_count": 33,
   "metadata": {},
   "outputs": [
    {
     "name": "stdout",
     "output_type": "stream",
     "text": [
      "Index(['Id', 'ProductId', 'UserId', 'ProfileName', 'HelpfulnessNumerator',\n",
      "       'HelpfulnessDenominator', 'Score', 'Time', 'Summary', 'Text'],\n",
      "      dtype='object')\n"
     ]
    }
   ],
   "source": [
    "print(df.columns)"
   ]
  },
  {
   "cell_type": "markdown",
   "metadata": {},
   "source": [
    "### [1.] Columns and their DataType"
   ]
  },
  {
   "cell_type": "code",
   "execution_count": 34,
   "metadata": {},
   "outputs": [
    {
     "name": "stdout",
     "output_type": "stream",
     "text": [
      "Id                         int64\n",
      "ProductId                 object\n",
      "UserId                    object\n",
      "ProfileName               object\n",
      "HelpfulnessNumerator       int64\n",
      "HelpfulnessDenominator     int64\n",
      "Score                      int64\n",
      "Time                       int64\n",
      "Summary                   object\n",
      "Text                      object\n",
      "dtype: object\n"
     ]
    }
   ],
   "source": [
    "print(df.dtypes)"
   ]
  },
  {
   "cell_type": "markdown",
   "metadata": {},
   "source": [
    "> For Amazon fine food review database, It has one column `score`\n",
    "<br>\n"
   ]
  },
  {
   "cell_type": "markdown",
   "metadata": {},
   "source": [
    "### [1.]. Filter out reviews having score equal to 3 as  these are consider as neutral"
   ]
  },
  {
   "cell_type": "code",
   "execution_count": 35,
   "metadata": {},
   "outputs": [
    {
     "name": "stdout",
     "output_type": "stream",
     "text": [
      "   Id   ProductId          UserId                      ProfileName  \\\n",
      "0   1  B001E4KFG0  A3SGXH7AUHU8GW                       delmartian   \n",
      "1   2  B00813GRG4  A1D87F6ZCVE5NK                           dll pa   \n",
      "2   3  B000LQOCH0   ABXLMWJIXXAIN  Natalia Corres \"Natalia Corres\"   \n",
      "\n",
      "   HelpfulnessNumerator  HelpfulnessDenominator  Score        Time  \\\n",
      "0                     1                       1      5  1303862400   \n",
      "1                     0                       0      1  1346976000   \n",
      "2                     1                       1      4  1219017600   \n",
      "\n",
      "                 Summary                                               Text  \n",
      "0  Good Quality Dog Food  I have bought several of the Vitality canned d...  \n",
      "1      Not as Advertised  Product arrived labeled as Jumbo Salted Peanut...  \n",
      "2  \"Delight\" says it all  This is a confection that has been around a fe...  \n"
     ]
    }
   ],
   "source": [
    "df = df.loc[(df['Score'] < 3) | (df['Score'] > 3)]\n",
    "print(df.head(n = 3))"
   ]
  },
  {
   "cell_type": "markdown",
   "metadata": {},
   "source": [
    "### [1.]. Update existing column score based on belown condition\n",
    "- Reviews corresponding to score :\n",
    "  - 4 and 5, would be consider as positive review (1)\n",
    "  - 1 and 2, would be consider as negative review (0)\n"
   ]
  },
  {
   "cell_type": "code",
   "execution_count": 36,
   "metadata": {},
   "outputs": [
    {
     "name": "stdout",
     "output_type": "stream",
     "text": [
      "   Id   ProductId          UserId                      ProfileName  \\\n",
      "0   1  B001E4KFG0  A3SGXH7AUHU8GW                       delmartian   \n",
      "1   2  B00813GRG4  A1D87F6ZCVE5NK                           dll pa   \n",
      "2   3  B000LQOCH0   ABXLMWJIXXAIN  Natalia Corres \"Natalia Corres\"   \n",
      "\n",
      "   HelpfulnessNumerator  HelpfulnessDenominator  Score        Time  \\\n",
      "0                     1                       1      1  1303862400   \n",
      "1                     0                       0      0  1346976000   \n",
      "2                     1                       1      1  1219017600   \n",
      "\n",
      "                 Summary                                               Text  \n",
      "0  Good Quality Dog Food  I have bought several of the Vitality canned d...  \n",
      "1      Not as Advertised  Product arrived labeled as Jumbo Salted Peanut...  \n",
      "2  \"Delight\" says it all  This is a confection that has been around a fe...  \n"
     ]
    }
   ],
   "source": [
    "df['Score'] = df['Score'].map(lambda score: 1 if score > 3 else 0)\n",
    "print(df.head(n = 3))"
   ]
  },
  {
   "cell_type": "code",
   "execution_count": 37,
   "metadata": {},
   "outputs": [
    {
     "name": "stdout",
     "output_type": "stream",
     "text": [
      "DataFrame shape : (5000, 10)\n"
     ]
    }
   ],
   "source": [
    "# DataFrame shape\n",
    "print(\"DataFrame shape : {}\".format(df.shape))"
   ]
  },
  {
   "cell_type": "code",
   "execution_count": 38,
   "metadata": {},
   "outputs": [
    {
     "name": "stdout",
     "output_type": "stream",
     "text": [
      "DataFrame shape : (80668, 7)\n",
      "               UserId   ProductId             ProfileName  Score        Time  \\\n",
      "0  #oc-R115TNMSPFT9I7  B007Y59HVM                 Breyton      2  1331510400   \n",
      "1  #oc-R11D9D7SHXIJB9  B005HG9ET0  Louis E. Emory \"hoppy\"      5  1342396800   \n",
      "2  #oc-R11DNU2NBKQ23Z  B007Y59HVM        Kim Cieszykowski      1  1348531200   \n",
      "3  #oc-R11O5J5ZVQE25C  B005HG9ET0           Penguin Chick      5  1346889600   \n",
      "4  #oc-R12KPBODL2B5ZD  B007OSBE1U   Christopher P. Presta      1  1348617600   \n",
      "\n",
      "                                                Text  record  \n",
      "0  Overall its just OK when considering the price...       2  \n",
      "1  My wife has recurring extreme muscle spasms, u...       3  \n",
      "2  This coffee is horrible and unfortunately not ...       2  \n",
      "3  This will be the bottle that you grab from the...       3  \n",
      "4  I didnt like this coffee. Instead of telling y...       2  \n"
     ]
    }
   ],
   "source": [
    "display = pd.read_sql_query(\"SELECT UserId, ProductId, ProfileName, Score, Time, Text, COUNT(*) AS record FROM Reviews GROUP BY UserId HAVING record > 1\", conn)\n",
    "\n",
    "print(\"DataFrame shape : {}\".format(display.shape))\n",
    "print(display.head(n = 5))"
   ]
  },
  {
   "cell_type": "markdown",
   "metadata": {},
   "source": [
    "#### [1..1]. Get one user record"
   ]
  },
  {
   "cell_type": "code",
   "execution_count": 39,
   "metadata": {},
   "outputs": [
    {
     "name": "stdout",
     "output_type": "stream",
     "text": [
      "               UserId   ProductId            ProfileName  Score        Time  \\\n",
      "4  #oc-R12KPBODL2B5ZD  B007OSBE1U  Christopher P. Presta      1  1348617600   \n",
      "\n",
      "                                                Text  record  \n",
      "4  I didnt like this coffee. Instead of telling y...       2  \n"
     ]
    }
   ],
   "source": [
    "print(display[display['UserId'] == '#oc-R12KPBODL2B5ZD'])"
   ]
  },
  {
   "cell_type": "code",
   "execution_count": 41,
   "metadata": {},
   "outputs": [
    {
     "name": "stdout",
     "output_type": "stream",
     "text": [
      "Record count : 393063\n"
     ]
    }
   ],
   "source": [
    "record_count = display['record'].sum()\n",
    "print(\"Record count : {}\".format(record_count))"
   ]
  },
  {
   "cell_type": "markdown",
   "metadata": {},
   "source": [
    "## [2]. Exploratory Data Analysis"
   ]
  },
  {
   "cell_type": "markdown",
   "metadata": {},
   "source": [
    "### [2.]. Data Cleaning: Deduplication"
   ]
  },
  {
   "cell_type": "markdown",
   "metadata": {},
   "source": [
    "#### [2.]. Sort DataFrame based on ProductId"
   ]
  },
  {
   "cell_type": "code",
   "execution_count": 42,
   "metadata": {},
   "outputs": [
    {
     "name": "stdout",
     "output_type": "stream",
     "text": [
      "        Id   ProductId          UserId             ProfileName  \\\n",
      "29      30  B0001PB9FY  A3HDKO7OW0QNK4            Canadian Fan   \n",
      "2309  2310  B0001VWE0M   AQM74O8Z4FMS0                Sunshine   \n",
      "2323  2324  B0001VWE0C   AQM74O8Z4FMS0                Sunshine   \n",
      "3885  3886  B005GX7GVW   AS1FCKNKY95ID  Juli A. Lee \"JingleJL\"   \n",
      "3886  3887  B005GX7GVW  A1I34N9LFOSCX7                  Smeggy   \n",
      "4640  4641  B0002NYO9I   A5DVX3B075B09           Patricia Kays   \n",
      "4641  4642  B0002NYO9I  A376TWN7I4HMZ8                  helios   \n",
      "\n",
      "      HelpfulnessNumerator  HelpfulnessDenominator  Score        Time  \\\n",
      "29                       1                       1      1  1107820800   \n",
      "2309                     0                       0      0  1127606400   \n",
      "2323                     0                       0      0  1127606400   \n",
      "3885                     1                       1      1  1336953600   \n",
      "3886                     0                       0      1  1349136000   \n",
      "4640                     0                       0      1  1338940800   \n",
      "4641                     0                       1      1  1324252800   \n",
      "\n",
      "                              Summary  \\\n",
      "29    The Best Hot Sauce in the World   \n",
      "2309                   Below standard   \n",
      "2323                   Below standard   \n",
      "3885            Great and good price!   \n",
      "3886                             Yum!   \n",
      "4640           LOVELY JUNIPER BERRIES   \n",
      "4641           Exaclty what i ordered   \n",
      "\n",
      "                                                   Text  \n",
      "29    I don't know if it's the cactus or the tequila...  \n",
      "2309  Too much of the white pith on this orange peel...  \n",
      "2323  Too much of the white pith on this orange peel...  \n",
      "3885  I love these noodles.  They are really great f...  \n",
      "3886  This soup cooks up quickly and is very yummy! ...  \n",
      "4640  Dried berries, still with texture and the quin...  \n",
      "4641  Again, exactly what I ordered. No fuss, no mus...  \n"
     ]
    }
   ],
   "source": [
    "df_un = df[df.duplicated(subset = ['HelpfulnessNumerator', 'HelpfulnessDenominator', 'Score', 'Time', 'Summary', 'Text'])]\n",
    "print(df_un.head(n = 10))"
   ]
  }
 ],
 "metadata": {
  "colab": {
   "collapsed_sections": [],
   "name": "Amazon Fine Food Reviews Analysis.ipynb",
   "provenance": []
  },
  "kernelspec": {
   "display_name": "Python 3",
   "language": "python",
   "name": "python3"
  },
  "language_info": {
   "codemirror_mode": {
    "name": "ipython",
    "version": 3
   },
   "file_extension": ".py",
   "mimetype": "text/x-python",
   "name": "python",
   "nbconvert_exporter": "python",
   "pygments_lexer": "ipython3",
   "version": "3.7.0"
  }
 },
 "nbformat": 4,
 "nbformat_minor": 1
}
