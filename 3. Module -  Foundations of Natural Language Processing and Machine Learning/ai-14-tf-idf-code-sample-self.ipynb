{
 "cells": [
  {
   "cell_type": "code",
   "execution_count": 1,
   "metadata": {},
   "outputs": [],
   "source": [
    "import matplotlib.pyplot as plt\n",
    "%matplotlib inline\n",
    "\n",
    "import warnings\n",
    "warnings.filterwarnings('ignore')\n",
    "\n",
    "import pandas as pd\n",
    "import numpy as np\n",
    "\n",
    "import sqlite3\n",
    "\n",
    "import nltk\n",
    "from nltk.stem.porter import PorterStemmer\n",
    "from nltk.corpus import stopwords\n",
    "from nltk.stem import PorterStemmer\n",
    "from nltk.stem.wordnet import WordNetLemmatizer\n",
    "\n",
    "import string\n",
    "import re\n",
    "import os\n",
    "import pickle\n",
    "from tqdm import tqdm\n",
    "\n",
    "import seaborn as sns\n",
    "\n",
    "from sklearn import metrics\n",
    "from sklearn.metrics import confusion_matrix, auc, roc_curve\n",
    "\n",
    "from sklearn.feature_extraction.text import CountVectorizer\n",
    "from sklearn.feature_extraction.text import TfidfVectorizer\n",
    "from sklearn.feature_extraction.text import TfidfTransformer\n",
    "\n",
    "from gensim.models import Word2Vec, KeyedVectors "
   ]
  },
  {
   "cell_type": "markdown",
   "metadata": {},
   "source": [
    "## [1]. Reading Data"
   ]
  },
  {
   "cell_type": "code",
   "execution_count": 2,
   "metadata": {},
   "outputs": [
    {
     "name": "stdout",
     "output_type": "stream",
     "text": [
      "ai-14-tf-idf-code-sample-ref.ipynb\n",
      "ai-14-tf-idf-code-sample-self.ipynb\n",
      "database.sqlite\n"
     ]
    }
   ],
   "source": [
    "!ls\n"
   ]
  },
  {
   "cell_type": "code",
   "execution_count": 3,
   "metadata": {},
   "outputs": [
    {
     "name": "stdout",
     "output_type": "stream",
     "text": [
      "<sqlite3.Connection object at 0x0000022976D8C3B0>\n"
     ]
    }
   ],
   "source": [
    "conn = sqlite3.connect('../data/data_01_amazon_fine_food_review/database.sqlite')\n",
    "print(conn)"
   ]
  },
  {
   "cell_type": "code",
   "execution_count": 4,
   "metadata": {},
   "outputs": [],
   "source": [
    "df = pd.read_sql_query(\"SELECT * FROM Reviews LIMIT 5427\", conn)"
   ]
  },
  {
   "cell_type": "code",
   "execution_count": 5,
   "metadata": {},
   "outputs": [
    {
     "name": "stdout",
     "output_type": "stream",
     "text": [
      "   Id   ProductId          UserId                      ProfileName  \\\n",
      "0   1  B001E4KFG0  A3SGXH7AUHU8GW                       delmartian   \n",
      "1   2  B00813GRG4  A1D87F6ZCVE5NK                           dll pa   \n",
      "2   3  B000LQOCH0   ABXLMWJIXXAIN  Natalia Corres \"Natalia Corres\"   \n",
      "\n",
      "   HelpfulnessNumerator  HelpfulnessDenominator  Score        Time  \\\n",
      "0                     1                       1      5  1303862400   \n",
      "1                     0                       0      1  1346976000   \n",
      "2                     1                       1      4  1219017600   \n",
      "\n",
      "                 Summary                                               Text  \n",
      "0  Good Quality Dog Food  I have bought several of the Vitality canned d...  \n",
      "1      Not as Advertised  Product arrived labeled as Jumbo Salted Peanut...  \n",
      "2  \"Delight\" says it all  This is a confection that has been around a fe...  \n"
     ]
    }
   ],
   "source": [
    "print(df.head(n = 3))"
   ]
  },
  {
   "cell_type": "markdown",
   "metadata": {},
   "source": [
    "### [1.] Available columns in DataFrame"
   ]
  },
  {
   "cell_type": "code",
   "execution_count": 6,
   "metadata": {},
   "outputs": [
    {
     "name": "stdout",
     "output_type": "stream",
     "text": [
      "Index(['Id', 'ProductId', 'UserId', 'ProfileName', 'HelpfulnessNumerator',\n",
      "       'HelpfulnessDenominator', 'Score', 'Time', 'Summary', 'Text'],\n",
      "      dtype='object')\n"
     ]
    }
   ],
   "source": [
    "print(df.columns)"
   ]
  },
  {
   "cell_type": "markdown",
   "metadata": {},
   "source": [
    "### [1.] Columns and their DataType"
   ]
  },
  {
   "cell_type": "code",
   "execution_count": 7,
   "metadata": {},
   "outputs": [
    {
     "name": "stdout",
     "output_type": "stream",
     "text": [
      "Id                         int64\n",
      "ProductId                 object\n",
      "UserId                    object\n",
      "ProfileName               object\n",
      "HelpfulnessNumerator       int64\n",
      "HelpfulnessDenominator     int64\n",
      "Score                      int64\n",
      "Time                       int64\n",
      "Summary                   object\n",
      "Text                      object\n",
      "dtype: object\n"
     ]
    }
   ],
   "source": [
    "print(df.dtypes)"
   ]
  },
  {
   "cell_type": "markdown",
   "metadata": {},
   "source": [
    "> For Amazon fine food review database, It has one column `score`\n",
    "<br>\n"
   ]
  },
  {
   "cell_type": "markdown",
   "metadata": {},
   "source": [
    "### [1.]. Filter out reviews having score equal to 3 as  these are consider as neutral"
   ]
  },
  {
   "cell_type": "code",
   "execution_count": 8,
   "metadata": {},
   "outputs": [
    {
     "name": "stdout",
     "output_type": "stream",
     "text": [
      "   Id   ProductId          UserId                      ProfileName  \\\n",
      "0   1  B001E4KFG0  A3SGXH7AUHU8GW                       delmartian   \n",
      "1   2  B00813GRG4  A1D87F6ZCVE5NK                           dll pa   \n",
      "2   3  B000LQOCH0   ABXLMWJIXXAIN  Natalia Corres \"Natalia Corres\"   \n",
      "\n",
      "   HelpfulnessNumerator  HelpfulnessDenominator  Score        Time  \\\n",
      "0                     1                       1      5  1303862400   \n",
      "1                     0                       0      1  1346976000   \n",
      "2                     1                       1      4  1219017600   \n",
      "\n",
      "                 Summary                                               Text  \n",
      "0  Good Quality Dog Food  I have bought several of the Vitality canned d...  \n",
      "1      Not as Advertised  Product arrived labeled as Jumbo Salted Peanut...  \n",
      "2  \"Delight\" says it all  This is a confection that has been around a fe...  \n"
     ]
    }
   ],
   "source": [
    "df = df.loc[(df['Score'] < 3) | (df['Score'] > 3)]\n",
    "print(df.head(n = 3))"
   ]
  },
  {
   "cell_type": "markdown",
   "metadata": {},
   "source": [
    "### [1.]. Update existing column score based on belown condition\n",
    "- Reviews corresponding to score :\n",
    "  - 4 and 5, would be consider as positive review (1)\n",
    "  - 1 and 2, would be consider as negative review (0)\n"
   ]
  },
  {
   "cell_type": "code",
   "execution_count": 9,
   "metadata": {},
   "outputs": [
    {
     "name": "stdout",
     "output_type": "stream",
     "text": [
      "   Id   ProductId          UserId                      ProfileName  \\\n",
      "0   1  B001E4KFG0  A3SGXH7AUHU8GW                       delmartian   \n",
      "1   2  B00813GRG4  A1D87F6ZCVE5NK                           dll pa   \n",
      "2   3  B000LQOCH0   ABXLMWJIXXAIN  Natalia Corres \"Natalia Corres\"   \n",
      "\n",
      "   HelpfulnessNumerator  HelpfulnessDenominator  Score        Time  \\\n",
      "0                     1                       1      1  1303862400   \n",
      "1                     0                       0      0  1346976000   \n",
      "2                     1                       1      1  1219017600   \n",
      "\n",
      "                 Summary                                               Text  \n",
      "0  Good Quality Dog Food  I have bought several of the Vitality canned d...  \n",
      "1      Not as Advertised  Product arrived labeled as Jumbo Salted Peanut...  \n",
      "2  \"Delight\" says it all  This is a confection that has been around a fe...  \n"
     ]
    }
   ],
   "source": [
    "df['Score'] = df['Score'].map(lambda score: 1 if score > 3 else 0)\n",
    "print(df.head(n = 3))"
   ]
  },
  {
   "cell_type": "code",
   "execution_count": 10,
   "metadata": {},
   "outputs": [
    {
     "name": "stdout",
     "output_type": "stream",
     "text": [
      "DataFrame shape : (5000, 10)\n"
     ]
    }
   ],
   "source": [
    "# DataFrame shape\n",
    "print(\"DataFrame shape : {}\".format(df.shape))"
   ]
  },
  {
   "cell_type": "code",
   "execution_count": 11,
   "metadata": {},
   "outputs": [
    {
     "name": "stdout",
     "output_type": "stream",
     "text": [
      "DataFrame shape : (80668, 7)\n",
      "               UserId   ProductId             ProfileName  Score        Time  \\\n",
      "0  #oc-R115TNMSPFT9I7  B007Y59HVM                 Breyton      2  1331510400   \n",
      "1  #oc-R11D9D7SHXIJB9  B005HG9ET0  Louis E. Emory \"hoppy\"      5  1342396800   \n",
      "2  #oc-R11DNU2NBKQ23Z  B007Y59HVM        Kim Cieszykowski      1  1348531200   \n",
      "3  #oc-R11O5J5ZVQE25C  B005HG9ET0           Penguin Chick      5  1346889600   \n",
      "4  #oc-R12KPBODL2B5ZD  B007OSBE1U   Christopher P. Presta      1  1348617600   \n",
      "\n",
      "                                                Text  record  \n",
      "0  Overall its just OK when considering the price...       2  \n",
      "1  My wife has recurring extreme muscle spasms, u...       3  \n",
      "2  This coffee is horrible and unfortunately not ...       2  \n",
      "3  This will be the bottle that you grab from the...       3  \n",
      "4  I didnt like this coffee. Instead of telling y...       2  \n"
     ]
    }
   ],
   "source": [
    "display = pd.read_sql_query(\"SELECT UserId, ProductId, ProfileName, Score, Time, Text, COUNT(*) AS record FROM Reviews GROUP BY UserId HAVING record > 1\", conn)\n",
    "\n",
    "print(\"DataFrame shape : {}\".format(display.shape))\n",
    "print(display.head(n = 5))"
   ]
  },
  {
   "cell_type": "markdown",
   "metadata": {},
   "source": [
    "#### [1..1]. Get one user record"
   ]
  },
  {
   "cell_type": "code",
   "execution_count": 12,
   "metadata": {},
   "outputs": [
    {
     "name": "stdout",
     "output_type": "stream",
     "text": [
      "               UserId   ProductId            ProfileName  Score        Time  \\\n",
      "4  #oc-R12KPBODL2B5ZD  B007OSBE1U  Christopher P. Presta      1  1348617600   \n",
      "\n",
      "                                                Text  record  \n",
      "4  I didnt like this coffee. Instead of telling y...       2  \n"
     ]
    }
   ],
   "source": [
    "print(display[display['UserId'] == '#oc-R12KPBODL2B5ZD'])"
   ]
  },
  {
   "cell_type": "code",
   "execution_count": 13,
   "metadata": {},
   "outputs": [
    {
     "name": "stdout",
     "output_type": "stream",
     "text": [
      "Record count : 393063\n"
     ]
    }
   ],
   "source": [
    "record_count = display['record'].sum()\n",
    "print(\"Record count : {}\".format(record_count))"
   ]
  },
  {
   "cell_type": "markdown",
   "metadata": {},
   "source": [
    "## [2]. Exploratory Data Analysis"
   ]
  },
  {
   "cell_type": "markdown",
   "metadata": {},
   "source": [
    "### [2.]. Data Cleaning: Deduplication"
   ]
  },
  {
   "cell_type": "markdown",
   "metadata": {},
   "source": [
    "#### [2.]. Sort DataFrame based on ProductId"
   ]
  },
  {
   "cell_type": "code",
   "execution_count": 22,
   "metadata": {},
   "outputs": [
    {
     "name": "stdout",
     "output_type": "stream",
     "text": [
      "Duplicate records DataFrame shape: (14, 10)\n",
      "        Id   ProductId          UserId   ProfileName  HelpfulnessNumerator  \\\n",
      "29      30  B0001PB9FY  A3HDKO7OW0QNK4  Canadian Fan                     1   \n",
      "574    575  B000G6RYNE  A3PJZ8TU8FDQ1K  Jared Castle                     2   \n",
      "2309  2310  B0001VWE0M   AQM74O8Z4FMS0      Sunshine                     0   \n",
      "\n",
      "      HelpfulnessDenominator  Score        Time  \\\n",
      "29                         1      1  1107820800   \n",
      "574                        2      1  1231718400   \n",
      "2309                       0      0  1127606400   \n",
      "\n",
      "                                          Summary  \\\n",
      "29                The Best Hot Sauce in the World   \n",
      "574   One bite and you'll become a \"chippoisseur\"   \n",
      "2309                               Below standard   \n",
      "\n",
      "                                                   Text  \n",
      "29    I don't know if it's the cactus or the tequila...  \n",
      "574   I'm addicted to salty and tangy flavors, so wh...  \n",
      "2309  Too much of the white pith on this orange peel...  \n"
     ]
    }
   ],
   "source": [
    "dup_records = df[df.duplicated(subset = ['UserId', 'ProfileName', 'Time', 'Text'])]\n",
    "print(\"Duplicate records DataFrame shape: {}\".format(dup_records.shape))\n",
    "print(dup_records.head(n = 3))"
   ]
  },
  {
   "cell_type": "code",
   "execution_count": 24,
   "metadata": {},
   "outputs": [
    {
     "name": "stdout",
     "output_type": "stream",
     "text": [
      "        Id   ProductId          UserId  \\\n",
      "2773  2774  B00002NCJC  A196AJHU9EASJN   \n",
      "2774  2775  B00002NCJC  A13RRPGE79XFFH   \n",
      "1243  1244  B00002Z754  A3B8RCEI0FXFI6   \n",
      "1244  1245  B00002Z754  A29Z5PI9BW2PU3   \n",
      "3203  3204  B000084DVR  A1UGDJP1ZJWVPF   \n",
      "3202  3203  B000084DVR  A3DKGXWUEP1AI2   \n",
      "1160  1161  B000084E1U  A3DH85EYHW4AQH   \n",
      "2379  2380  B0000CGFV4  A3LSUKN4IFS6VD   \n",
      "5096  5097  B0000D94SZ  A2R91PG1XPNO0B   \n",
      "2255  2256  B0000DC5IY    AGYZZ3QXV9S8   \n",
      "2256  2257  B0000DC5IY   A3GKE33FI1QKA   \n",
      "3052  3053  B0000E65W9  A1GJ37VZOZ6S1W   \n",
      "3051  3052  B0000E65W9  A1GYEGLX3P2Y7P   \n",
      "4442  4443  B0000GGI00  A2D16Q29G5S0E9   \n",
      "4439  4440  B0000GGI00  A21EHWHI9XQY10   \n",
      "4440  4441  B0000GGI00  A23EN4MZKDZIDV   \n",
      "4441  4442  B0000GGI00  A2VBTN6ZR67YOF   \n",
      "1438  1439  B0000VLH8S  A3PCZQ3Y8C32OP   \n",
      "1436  1437  B0000VLH8S  A3OX1UNG90U0G0   \n",
      "1435  1436  B0000VLH8S  A3NNFYRW6UOVMH   \n",
      "1434  1435  B0000VLH8S  A1HPPPBBMZD78K   \n",
      "1437  1438  B0000VLH8S   APZ1KMTD4SNB9   \n",
      "4694  4695  B0000VMBDI   ATU8547UX4G9F   \n",
      "4695  4696  B0000VMBDI  A1LTDEUQUFK1WC   \n",
      "4696  4697  B0000VMBDI  A3JMJEWINMCB2Y   \n",
      "4697  4698  B0000VMBDI  A1GFEFETAHX8DW   \n",
      "4394  4395  B0001217OA  A3F3B1JPACN215   \n",
      "2695  2696  B00015BQB6  A3KKDZEJGCK9OW   \n",
      "2694  2695  B00015BQB6   A2QDPD1G95B99   \n",
      "2696  2697  B00015BQB6   AK6IRH6UKVOO8   \n",
      "...    ...         ...             ...   \n",
      "3760  3761  B00016UX0K  A1B742SBARPC7S   \n",
      "3761  3762  B00016UX0K  A3P4OYKFX1PD7T   \n",
      "3762  3763  B00016UX0K   AZL9FXO5KJFGH   \n",
      "3763  3764  B00016UX0K  A3ECXDTAWZOYTX   \n",
      "3753  3754  B00016UX0K  A16OGJNAPOX36O   \n",
      "3764  3765  B00016UX0K  A2F2O2GD72D8ZR   \n",
      "3740  3741  B00016UX0K  A21VGNU5959O85   \n",
      "3554  3555  B0001E3LBU  A2Q1ZSJSLC7LK8   \n",
      "2334  2335  B0001FQVCK   A5D06XJHDXK75   \n",
      "2335  2336  B0001FQVCK  A2MTESTGQWYDRA   \n",
      "2336  2337  B0001FQVCK   A5D06XJHDXK75   \n",
      "2337  2338  B0001FQVCK   ALU8PT2XF2OHH   \n",
      "2338  2339  B0001FQVCK  A2I6S7AQRVTBPZ   \n",
      "3171  3172  B0001KL1Y8   A6O4HEW33NM58   \n",
      "3952  3953  B0001N4886  A32ASCB9JJPDUL   \n",
      "3953  3954  B0001N4886  A2TY8D3ZJNTS3M   \n",
      "3789  3790  B0001N488G  A3FHWBRWRFQWDG   \n",
      "2098  2099  B0001OINNQ  A2HJM83SBQXZJB   \n",
      "10      11  B0001PB9FE  A3HDKO7OW0QNK4   \n",
      "29      30  B0001PB9FY  A3HDKO7OW0QNK4   \n",
      "4677  4678  B0001VWDO4  A35GBC9DGU1NRO   \n",
      "2295  2296  B0001VWE02   AQM74O8Z4FMS0   \n",
      "2323  2324  B0001VWE0C   AQM74O8Z4FMS0   \n",
      "2309  2310  B0001VWE0M   AQM74O8Z4FMS0   \n",
      "252    253  B0002567IW  A1SSKFPX72MSMR   \n",
      "187    188  B00029XIZI  A2S72TUJDQUBMH   \n",
      "1010  1011  B0002MKFEM  A3QLX72AO0DD5Z   \n",
      "4432  4433  B0002NYO98  A376TWN7I4HMZ8   \n",
      "4431  4432  B0002NYO98   A5DVX3B075B09   \n",
      "4641  4642  B0002NYO9I  A376TWN7I4HMZ8   \n",
      "\n",
      "                                           ProfileName  HelpfulnessNumerator  \\\n",
      "2773                                      Alex Chaffee                     0   \n",
      "2774                                          reader48                     0   \n",
      "1243                                         B G Chase                    10   \n",
      "1244                                            Robbie                     7   \n",
      "3203                      T. Moore \"thoughtful reader\"                     1   \n",
      "3202                       Glenna E. Bauer \"Puppy Mum\"                     3   \n",
      "1160                                      Eric Hochman                     1   \n",
      "2379                                     Internet Diva                     0   \n",
      "5096              Kotton Kandee \"not so secretshopper\"                     4   \n",
      "2255                  Dr. Glenn B. Gero \"NJnaturaldoc\"                     3   \n",
      "2256                               The Barb Knows Best                     0   \n",
      "3052                      S. Jettlund \"mamaknows2much\"                     0   \n",
      "3051                                    Shala Kerrigan                     1   \n",
      "4442                      Jim \"highaltitudelowopening\"                     0   \n",
      "4439                                     D. J. Walters                     4   \n",
      "4440                                      AlwaysFlying                     1   \n",
      "4441                                       Mike Jacobs                     1   \n",
      "1438                       saphenomenon \"saphenomenon\"                     0   \n",
      "1436                                       S. Woodcock                     2   \n",
      "1435                      John M. Bloom \"dmetrixavier\"                     5   \n",
      "1434  Judy J. Blaskowski \"Coauthor of The Step Dyna...                     6   \n",
      "1437                                       C. Dembosky                     2   \n",
      "4694                                        J. Jackson                     0   \n",
      "4695                                        C. Goettel                     0   \n",
      "4696                                     Paul J. Smith                     0   \n",
      "4697                                             Bob E                     0   \n",
      "4394                                 Michael G. Lustig                     2   \n",
      "2695                                  Catwoman \"Meow.\"                     1   \n",
      "2694                                        W. Jackson                     2   \n",
      "2696                                               dax                     1   \n",
      "...                                                ...                   ...   \n",
      "3760                    Peggy F. Moseley \"doubletiger\"                     0   \n",
      "3761                                    Larry W Taylor                     0   \n",
      "3762                                        J. Wooster                     0   \n",
      "3763                                            Tanner                     0   \n",
      "3753                                            HB1974                     1   \n",
      "3764                              R. Wells \"AZPHATMAN\"                     0   \n",
      "3740                                Laura Terese Henri                    10   \n",
      "3554                                         A. Vannoy                     2   \n",
      "2334                                             C. Po                     3   \n",
      "2335                                            SJLang                     2   \n",
      "2336                                             C. Po                     1   \n",
      "2337                        Pamela R. Howell \"prhluv9\"                     0   \n",
      "2338                       Tina P. Leonard \"goof girl\"                     0   \n",
      "3171                                          HoneyBee                     0   \n",
      "3952           Island Halfbreed \"Woman Extraordinaire\"                     0   \n",
      "3953                                       Violet Dawn                     0   \n",
      "3789                                         Robert216                     0   \n",
      "2098                        Diane \"Madison Book lover\"                     0   \n",
      "10                                        Canadian Fan                     1   \n",
      "29                                        Canadian Fan                     1   \n",
      "4677                          C. B. Reyes Avila \"cbra\"                     1   \n",
      "2295                                          Sunshine                     0   \n",
      "2323                                          Sunshine                     0   \n",
      "2309                                          Sunshine                     0   \n",
      "252                        Janna M. Sicard \"missjanna\"                     0   \n",
      "187                                              Nadia                     0   \n",
      "1010                                   Carlito Picache                     1   \n",
      "4432                                            helios                     0   \n",
      "4431                                     Patricia Kays                     0   \n",
      "4641                                            helios                     0   \n",
      "\n",
      "      HelpfulnessDenominator  Score        Time  \\\n",
      "2773                       0      1  1282953600   \n",
      "2774                       0      1  1281052800   \n",
      "1243                      10      1   962236800   \n",
      "1244                       7      1   961718400   \n",
      "3203                       1      1  1177977600   \n",
      "3202                       3      1  1163030400   \n",
      "1160                       1      1  1140739200   \n",
      "2379                       0      1  1312416000   \n",
      "5096                       4      1  1184198400   \n",
      "2255                       4      0  1289865600   \n",
      "2256                       0      0  1322697600   \n",
      "3052                       0      1  1308700800   \n",
      "3051                       1      1  1287187200   \n",
      "4442                       0      1  1339113600   \n",
      "4439                       4      1  1245456000   \n",
      "4440                       1      1  1347408000   \n",
      "4441                       1      1  1344729600   \n",
      "1438                       0      0  1349222400   \n",
      "1436                       2      1  1229472000   \n",
      "1435                       5      1  1214265600   \n",
      "1434                       6      1  1175644800   \n",
      "1437                       2      1  1219968000   \n",
      "4694                       0      1  1348444800   \n",
      "4695                       0      1  1346544000   \n",
      "4696                       0      1  1323907200   \n",
      "4697                       0      1  1319587200   \n",
      "4394                       2      1  1190332800   \n",
      "2695                       1      1  1273104000   \n",
      "2694                       2      1  1226707200   \n",
      "2696                       1      1  1235520000   \n",
      "...                      ...    ...         ...   \n",
      "3760                       0      1  1347321600   \n",
      "3761                       0      1  1346112000   \n",
      "3762                       0      1  1345161600   \n",
      "3763                       0      1  1323129600   \n",
      "3753                       1      1  1331596800   \n",
      "3764                       0      1  1320451200   \n",
      "3740                      12      1  1130371200   \n",
      "3554                       2      1  1155168000   \n",
      "2334                       3      1  1190592000   \n",
      "2335                       2      0  1292803200   \n",
      "2336                       1      1  1190592000   \n",
      "2337                       0      1  1247443200   \n",
      "2338                       0      1  1242691200   \n",
      "3171                       0      1  1323216000   \n",
      "3952                       0      1  1214611200   \n",
      "3953                       0      1  1195430400   \n",
      "3789                       0      1  1318809600   \n",
      "2098                       0      1  1325980800   \n",
      "10                         1      1  1107820800   \n",
      "29                         1      1  1107820800   \n",
      "4677                       1      1  1179273600   \n",
      "2295                       0      0  1127606400   \n",
      "2323                       0      0  1127606400   \n",
      "2309                       0      0  1127606400   \n",
      "252                        0      0  1344556800   \n",
      "187                        0      1  1236124800   \n",
      "1010                       2      1  1226361600   \n",
      "4432                       1      1  1324252800   \n",
      "4431                       0      1  1338940800   \n",
      "4641                       1      1  1324252800   \n",
      "\n",
      "                                                Summary  \\\n",
      "2773                                      thirty bucks?   \n",
      "2774                                       Flies Begone   \n",
      "1243                     WOW Make your own 'slickers' !   \n",
      "1244                                      Great Product   \n",
      "3203                                        Good stuff!   \n",
      "3202                        Premium Quality Dog Food!!!   \n",
      "1160                                      Cats love it!   \n",
      "2379               Nice, Big Pieces & Big Almond Flavor   \n",
      "5096                A Summer Treat Fat Free, Guilt Free   \n",
      "2255  Don't buy this product unless you are looking ...   \n",
      "2256                                      Little Flavor   \n",
      "3052                               A Staple in my house   \n",
      "3051                     A favorite quick meal solution   \n",
      "4442  Best Hot Sauce and Taco Sauce Available In Ame...   \n",
      "4439                             Pico Pica ... the BEST   \n",
      "4440                                 This is the stuff!   \n",
      "4441  What everyone is saying here about Pico Pica i...   \n",
      "1438                                         not edible   \n",
      "1436                                       shining star   \n",
      "1435          The Inexpensive Alternative to Gold Leaf!   \n",
      "1434                  Create Exquisite Cake Decorations   \n",
      "1437                               gold dust is awesome   \n",
      "4694                          Perfect for my sons cake.   \n",
      "4695               Really cute - made a great golf cake   \n",
      "4696                                           Golf Set   \n",
      "4697                                        Cake Topper   \n",
      "4394                                          Fantastic   \n",
      "2695                                       Adzuki beans   \n",
      "2694                                               Yum.   \n",
      "2696                                              yummy   \n",
      "...                                                 ...   \n",
      "3760                              Nobody Does It Better   \n",
      "3761                                      Great product   \n",
      "3762                                   Absolutely love!   \n",
      "3763                Great Sauce w/o the extreme heat!!!   \n",
      "3753                                               fave   \n",
      "3764                        This is the stuff you want.   \n",
      "3740                              SWEEEEET......and Hot   \n",
      "3554                                       Great Jerky!   \n",
      "2334        Chocolate Italian kisses - need I say more?   \n",
      "2335                                Incorrect packaging   \n",
      "2336  Baci's are pure heaven - great gift, stocking ...   \n",
      "2337                                              Yum-o   \n",
      "2338                                       What a treat   \n",
      "3171                                        A great buy   \n",
      "3952                                  Smooth Rich Blend   \n",
      "3953                                    Wonderful tea!!   \n",
      "3789                        My favorite tea of all time   \n",
      "2098                                       Perfect Gift   \n",
      "10                      The Best Hot Sauce in the World   \n",
      "29                      The Best Hot Sauce in the World   \n",
      "4677                                            Smells!   \n",
      "2295                                     Below standard   \n",
      "2323                                     Below standard   \n",
      "2309                                     Below standard   \n",
      "252                                         Sad outcome   \n",
      "187                                             Miracle   \n",
      "1010                                      Way too salty   \n",
      "4432                             Exaclty what i ordered   \n",
      "4431                             LOVELY JUNIPER BERRIES   \n",
      "4641                             Exaclty what i ordered   \n",
      "\n",
      "                                                   Text  \n",
      "2773  Why is this $[...] when the same product is av...  \n",
      "2774  We have used the Victor fly bait for 3 seasons...  \n",
      "1243  I just received my shipment and could hardly w...  \n",
      "1244  This was a really good idea and the final prod...  \n",
      "3203  I'm glad my 45lb cocker/standard poodle puppy ...  \n",
      "3202  We have been using this food for about 6 month...  \n",
      "1160  I have nine cats and they are crazy about thes...  \n",
      "2379  These were shipped out the day after I ordered...  \n",
      "5096  This mix is probably not something you would w...  \n",
      "2255  The description of this product is disceptive....  \n",
      "2256  I bought this same brand from an online Indian...  \n",
      "3052  I use these to keep my finicky toddler's prote...  \n",
      "3051  When we get very busy in our home, I like this...  \n",
      "4442  This company is an American Classic been in bu...  \n",
      "4439  I love Pico Pica.  It adds some flavor, and it...  \n",
      "4440  Thank goodness for MexGrocer. We love this Pic...  \n",
      "4441  This is a very different sauce - nothing like ...  \n",
      "1438  i found this product doing a search for \"edibl...  \n",
      "1436  i purchased this item for a cake that called f...  \n",
      "1435  I have used this product multiple times.  In f...  \n",
      "1434  I used Super Gold Luster Dust to create the mo...  \n",
      "1437  This product allows me to make some really big...  \n",
      "4694  This was a cute, affordable set for my 2 y/o s...  \n",
      "4695  I only used one green with it's ball, etc. wit...  \n",
      "4696  <a href=\"http://www.amazon.com/gp/product/B000...  \n",
      "4697  The Golf \"set\" arrived quickly and was just as...  \n",
      "4394  With all natural ingredients and no preservati...  \n",
      "2695  Adzuki ( or Azuki) beans are ment to be used i...  \n",
      "2694  Good beans.  I can't find these in the grocery...  \n",
      "2696  their not only good for you but their yummy.th...  \n",
      "...                                                 ...  \n",
      "3760  This is delicious.  It makes a gourmet cook ou...  \n",
      "3761  The best sauce on the market.  We use it on al...  \n",
      "3762  We cook a lot of Chinese dishes in our househo...  \n",
      "3763  I love asian flavor w/o the extreme heat.  I h...  \n",
      "3753  This is one of my favorite sauces to have hand...  \n",
      "3764  This is the best Sweet Chili sauce I have foun...  \n",
      "3740  This goes down in my Self Proclaimed Condiment...  \n",
      "3554  I prefer jerky with a dry texture but always h...  \n",
      "2334  My family has been in love with Baci's ever si...  \n",
      "2335  I ordered this item in a large quanity, but wa...  \n",
      "2336  My family has been in love with Baci's ever si...  \n",
      "2337  Just returned from Italy and was told these li...  \n",
      "2338  Delicious candy.<br />Outstanding price for su...  \n",
      "3171  Though this coffee was expensive compared to r...  \n",
      "3952  I have fallen in love with this tea. I am a br...  \n",
      "3953  The packaging is so cute on all of Ashby's tea...  \n",
      "3789  I first drank this tea at Naniboujou Lodge on ...  \n",
      "2098  This product was a gift to a far distant relat...  \n",
      "10    I don't know if it's the cactus or the tequila...  \n",
      "29    I don't know if it's the cactus or the tequila...  \n",
      "4677  It is very strong and pure! you just need a li...  \n",
      "2295  Too much of the white pith on this orange peel...  \n",
      "2323  Too much of the white pith on this orange peel...  \n",
      "2309  Too much of the white pith on this orange peel...  \n",
      "252   Five minutes in, one tentacle was bitten off, ...  \n",
      "187   My Scotties were full of hot spots and when I ...  \n",
      "1010  I tried this and I found it too salty.<br />Pl...  \n",
      "4432  Again, exactly what I ordered. No fuss, no mus...  \n",
      "4431  Dried berries, still with texture and the quin...  \n",
      "4641  Again, exactly what I ordered. No fuss, no mus...  \n",
      "\n"
     ]
    },
    {
     "name": "stdout",
     "output_type": "stream",
     "text": [
      "[100 rows x 10 columns]\n",
      "(5000, 10)\n"
     ]
    }
   ],
   "source": [
    "sorted_df = df.sort_values(\"ProductId\", axis = 0, ascending  = True, inplace = False, kind = 'quicksort', na_position = 'last')\n",
    "print(sorted_df.head(n = 100))\n",
    "print(sorted_df.shape)"
   ]
  },
  {
   "cell_type": "code",
   "execution_count": 25,
   "metadata": {},
   "outputs": [
    {
     "name": "stdout",
     "output_type": "stream",
     "text": [
      "(4986, 10)\n",
      "        Id   ProductId          UserId                   ProfileName  \\\n",
      "2773  2774  B00002NCJC  A196AJHU9EASJN                  Alex Chaffee   \n",
      "2774  2775  B00002NCJC  A13RRPGE79XFFH                      reader48   \n",
      "1243  1244  B00002Z754  A3B8RCEI0FXFI6                     B G Chase   \n",
      "1244  1245  B00002Z754  A29Z5PI9BW2PU3                        Robbie   \n",
      "3203  3204  B000084DVR  A1UGDJP1ZJWVPF  T. Moore \"thoughtful reader\"   \n",
      "\n",
      "      HelpfulnessNumerator  HelpfulnessDenominator  Score        Time  \\\n",
      "2773                     0                       0      1  1282953600   \n",
      "2774                     0                       0      1  1281052800   \n",
      "1243                    10                      10      1   962236800   \n",
      "1244                     7                       7      1   961718400   \n",
      "3203                     1                       1      1  1177977600   \n",
      "\n",
      "                             Summary  \\\n",
      "2773                   thirty bucks?   \n",
      "2774                    Flies Begone   \n",
      "1243  WOW Make your own 'slickers' !   \n",
      "1244                   Great Product   \n",
      "3203                     Good stuff!   \n",
      "\n",
      "                                                   Text  \n",
      "2773  Why is this $[...] when the same product is av...  \n",
      "2774  We have used the Victor fly bait for 3 seasons...  \n",
      "1243  I just received my shipment and could hardly w...  \n",
      "1244  This was a really good idea and the final prod...  \n",
      "3203  I'm glad my 45lb cocker/standard poodle puppy ...  \n"
     ]
    }
   ],
   "source": [
    "final = sorted_df.drop_duplicates(subset = ['UserId', 'ProfileName', 'Time', 'Text'])\n",
    "print(final.shape)\n",
    "print(final.head())"
   ]
  }
 ],
 "metadata": {
  "colab": {
   "collapsed_sections": [],
   "name": "Amazon Fine Food Reviews Analysis.ipynb",
   "provenance": []
  },
  "kernelspec": {
   "display_name": "Python 3",
   "language": "python",
   "name": "python3"
  },
  "language_info": {
   "codemirror_mode": {
    "name": "ipython",
    "version": 3
   },
   "file_extension": ".py",
   "mimetype": "text/x-python",
   "name": "python",
   "nbconvert_exporter": "python",
   "pygments_lexer": "ipython3",
   "version": "3.7.0"
  }
 },
 "nbformat": 4,
 "nbformat_minor": 1
}
