{
 "cells": [
  {
   "cell_type": "code",
   "execution_count": 1,
   "metadata": {},
   "outputs": [],
   "source": [
    "import pandas as pd\n",
    "import numpy as np"
   ]
  },
  {
   "cell_type": "code",
   "execution_count": 2,
   "metadata": {},
   "outputs": [],
   "source": [
    "import matplotlib.pyplot as plt\n",
    "%matplotlib inline"
   ]
  },
  {
   "cell_type": "code",
   "execution_count": 3,
   "metadata": {},
   "outputs": [],
   "source": [
    "from sklearn.model_selection import train_test_split\n",
    "from sklearn.model_selection import cross_val_score\n",
    "from sklearn import model_selection\n",
    "\n",
    "from sklearn.neighbors import KNeighborsClassifier\n",
    "from sklearn.metrics import accuracy_score\n",
    "\n",
    "from collections import Counter"
   ]
  },
  {
   "cell_type": "code",
   "execution_count": 4,
   "metadata": {},
   "outputs": [
    {
     "data": {
      "text/html": [
       "<div>\n",
       "<style scoped>\n",
       "    .dataframe tbody tr th:only-of-type {\n",
       "        vertical-align: middle;\n",
       "    }\n",
       "\n",
       "    .dataframe tbody tr th {\n",
       "        vertical-align: top;\n",
       "    }\n",
       "\n",
       "    .dataframe thead th {\n",
       "        text-align: right;\n",
       "    }\n",
       "</style>\n",
       "<table border=\"1\" class=\"dataframe\">\n",
       "  <thead>\n",
       "    <tr style=\"text-align: right;\">\n",
       "      <th></th>\n",
       "      <th>x</th>\n",
       "      <th>y</th>\n",
       "      <th>class</th>\n",
       "    </tr>\n",
       "  </thead>\n",
       "  <tbody>\n",
       "    <tr>\n",
       "      <th>0</th>\n",
       "      <td>0.700335</td>\n",
       "      <td>-0.247068</td>\n",
       "      <td>0.0</td>\n",
       "    </tr>\n",
       "    <tr>\n",
       "      <th>1</th>\n",
       "      <td>-3.950019</td>\n",
       "      <td>2.740080</td>\n",
       "      <td>1.0</td>\n",
       "    </tr>\n",
       "    <tr>\n",
       "      <th>2</th>\n",
       "      <td>0.150222</td>\n",
       "      <td>-2.157638</td>\n",
       "      <td>1.0</td>\n",
       "    </tr>\n",
       "    <tr>\n",
       "      <th>3</th>\n",
       "      <td>-1.672050</td>\n",
       "      <td>-0.941519</td>\n",
       "      <td>1.0</td>\n",
       "    </tr>\n",
       "    <tr>\n",
       "      <th>4</th>\n",
       "      <td>2.560483</td>\n",
       "      <td>-1.846577</td>\n",
       "      <td>1.0</td>\n",
       "    </tr>\n",
       "  </tbody>\n",
       "</table>\n",
       "</div>"
      ],
      "text/plain": [
       "          x         y  class\n",
       "0  0.700335 -0.247068    0.0\n",
       "1 -3.950019  2.740080    1.0\n",
       "2  0.150222 -2.157638    1.0\n",
       "3 -1.672050 -0.941519    1.0\n",
       "4  2.560483 -1.846577    1.0"
      ]
     },
     "execution_count": 4,
     "metadata": {},
     "output_type": "execute_result"
    }
   ],
   "source": [
    "names = ['x', 'y', 'class']\n",
    "df = pd.read_csv(\"./demo_data/3.concertriccir2.csv\", header = None, names = names)\n",
    "df.head()"
   ]
  },
  {
   "cell_type": "code",
   "execution_count": 5,
   "metadata": {},
   "outputs": [
    {
     "name": "stdout",
     "output_type": "stream",
     "text": [
      "<class 'pandas.core.frame.DataFrame'>\n"
     ]
    }
   ],
   "source": [
    "D = df.iloc[:, 0:2]\n",
    "print(type(D))"
   ]
  },
  {
   "cell_type": "code",
   "execution_count": 6,
   "metadata": {},
   "outputs": [
    {
     "name": "stdout",
     "output_type": "stream",
     "text": [
      "          x         y\n",
      "0  0.700335 -0.247068\n",
      "1 -3.950019  2.740080\n",
      "2  0.150222 -2.157638\n",
      "3 -1.672050 -0.941519\n",
      "4  2.560483 -1.846577\n"
     ]
    }
   ],
   "source": [
    "print(D.head())"
   ]
  },
  {
   "cell_type": "code",
   "execution_count": 7,
   "metadata": {},
   "outputs": [
    {
     "name": "stdout",
     "output_type": "stream",
     "text": [
      "0    0.0\n",
      "1    1.0\n",
      "2    1.0\n",
      "3    1.0\n",
      "4    1.0\n",
      "Name: class, dtype: float64\n"
     ]
    }
   ],
   "source": [
    "Y = df['class']\n",
    "print(Y[:5])"
   ]
  },
  {
   "cell_type": "code",
   "execution_count": 8,
   "metadata": {},
   "outputs": [],
   "source": [
    "D_TRAIN, D_test, Y_TRAIN, Y_test = train_test_split(D, Y, test_size = 0.3, random_state = 0)"
   ]
  },
  {
   "cell_type": "code",
   "execution_count": 9,
   "metadata": {},
   "outputs": [],
   "source": [
    "d_train, d_cv, y_train, y_cv = train_test_split(D_TRAIN, Y_TRAIN, test_size = 0.3)"
   ]
  },
  {
   "cell_type": "code",
   "execution_count": 10,
   "metadata": {},
   "outputs": [
    {
     "name": "stdout",
     "output_type": "stream",
     "text": [
      "CV Accuracy for k 1 : 87.61904761904762\n",
      "\n",
      "CV Accuracy for k 3 : 89.52380952380953\n",
      "\n",
      "CV Accuracy for k 5 : 85.71428571428571\n",
      "\n",
      "CV Accuracy for k 7 : 86.66666666666667\n",
      "\n",
      "CV Accuracy for k 9 : 81.9047619047619\n",
      "\n",
      "CV Accuracy for k 11 : 80.0\n",
      "\n",
      "CV Accuracy for k 13 : 80.0\n",
      "\n",
      "CV Accuracy for k 15 : 80.95238095238095\n",
      "\n",
      "CV Accuracy for k 17 : 81.9047619047619\n",
      "\n",
      "CV Accuracy for k 19 : 78.0952380952381\n",
      "\n",
      "CV Accuracy for k 21 : 76.19047619047619\n",
      "\n",
      "CV Accuracy for k 23 : 76.19047619047619\n",
      "\n",
      "CV Accuracy for k 25 : 78.0952380952381\n",
      "\n",
      "CV Accuracy for k 27 : 77.14285714285715\n",
      "\n",
      "CV Accuracy for k 29 : 78.0952380952381\n",
      "\n"
     ]
    }
   ],
   "source": [
    "neighbors = list()\n",
    "neighbors = [idx for idx in range(1, 30, 2)]\n",
    "\n",
    "for neighbor in neighbors:\n",
    "\n",
    "    knn_clf = KNeighborsClassifier(n_neighbors = neighbor)\n",
    "    knn_clf.fit(d_train, y_train)\n",
    "    \n",
    "    y_hat = knn_clf.predict(d_cv)\n",
    "    \n",
    "    score = accuracy_score(y_cv, y_hat)*100\n",
    "    \n",
    "    print(\"CV Accuracy for k {} : {}\\n\".format(neighbor, score))"
   ]
  },
  {
   "cell_type": "code",
   "execution_count": 11,
   "metadata": {},
   "outputs": [
    {
     "data": {
      "text/plain": [
       "KNeighborsClassifier(algorithm='auto', leaf_size=30, metric='minkowski',\n",
       "                     metric_params=None, n_jobs=None, n_neighbors=5, p=2,\n",
       "                     weights='uniform')"
      ]
     },
     "execution_count": 11,
     "metadata": {},
     "output_type": "execute_result"
    }
   ],
   "source": [
    "clf = KNeighborsClassifier(n_neighbors = 5)\n",
    "clf.fit(d_train, y_train)"
   ]
  },
  {
   "cell_type": "code",
   "execution_count": 12,
   "metadata": {},
   "outputs": [
    {
     "name": "stdout",
     "output_type": "stream",
     "text": [
      "[0. 1. 0. 0. 0. 1. 0. 0. 1. 0. 0. 0. 1. 1. 1. 1. 1. 0. 0. 1. 1. 0. 1. 0.\n",
      " 0. 0. 0. 1. 0. 0. 1. 0. 1. 1. 1. 1. 1. 0. 1. 0. 0. 1. 0. 1. 1. 1. 1. 1.\n",
      " 1. 0. 0. 0. 0. 0. 0. 0. 0. 0. 1. 1. 0. 1. 0. 1. 0. 0. 0. 0. 1. 0. 0. 0.\n",
      " 0. 0. 1. 1. 1. 1. 1. 0. 1. 1. 0. 0. 0. 1. 0. 0. 0. 0. 0. 0. 0. 0. 0. 0.\n",
      " 1. 0. 1. 1. 0. 0. 0. 1. 1. 0. 0. 0. 0. 1. 1. 0. 0. 1. 0. 0. 1. 1. 0. 0.\n",
      " 1. 1. 1. 1. 1. 1. 1. 0. 1. 1. 0. 0. 0. 1. 0. 0. 1. 0. 0. 1. 0. 1. 0. 0.\n",
      " 0. 1. 0. 0. 1. 1.]\n"
     ]
    }
   ],
   "source": [
    "Y_hat = clf.predict(D_test)\n",
    "print(Y_hat)"
   ]
  },
  {
   "cell_type": "code",
   "execution_count": 13,
   "metadata": {},
   "outputs": [
    {
     "data": {
      "text/plain": [
       "0.8866666666666667"
      ]
     },
     "execution_count": 13,
     "metadata": {},
     "output_type": "execute_result"
    }
   ],
   "source": [
    "#accuracy_score(y_cv, y_hat, normalize = True)\n",
    "np.sum(np.array(Y_hat) == np.array(Y_test))/Y_hat.size"
   ]
  },
  {
   "cell_type": "code",
   "execution_count": 20,
   "metadata": {},
   "outputs": [
    {
     "name": "stdout",
     "output_type": "stream",
     "text": [
      "[0.8815617785807488, 0.8611362039546321, 0.820385426076483, 0.8246010237880158, 0.8125564588979223, 0.7963464819833384, 0.7799357623205861, 0.76367559971896, 0.7187092241292783, 0.6821238582756198, 0.6698283649503162, 0.6616982836495032, 0.6493526046371575, 0.6165813509986952, 0.6043862290474756]\n"
     ]
    }
   ],
   "source": [
    "cv_scores = list()\n",
    "#neighbors = [1, 3, 5]\n",
    "for neighbor in neighbors:\n",
    "    \n",
    "    knn_clsfr = KNeighborsClassifier(n_neighbors = neighbor)\n",
    "    \n",
    "    scores = cross_val_score(knn_clsfr, d_train, y_train, cv =3, scoring = \"accuracy\")\n",
    "    cv_scores.append(scores.mean())\n",
    "\n",
    "print(cv_scores)"
   ]
  },
  {
   "cell_type": "markdown",
   "metadata": {},
   "source": [
    "#### Changing to missclassification error"
   ]
  },
  {
   "cell_type": "code",
   "execution_count": 26,
   "metadata": {},
   "outputs": [
    {
     "name": "stdout",
     "output_type": "stream",
     "text": [
      "[0.118, 0.139, 0.18, 0.175, 0.187, 0.204, 0.22, 0.236, 0.281, 0.318, 0.33, 0.338, 0.351, 0.383, 0.396]\n"
     ]
    }
   ],
   "source": [
    "mse = [np.round(1 - score, 3) for score in cv_scores]\n",
    "print(mse)"
   ]
  },
  {
   "cell_type": "code",
   "execution_count": 27,
   "metadata": {},
   "outputs": [
    {
     "data": {
      "image/png": "[encoded data removed]",
      "text/plain": [
       "<Figure size 432x288 with 1 Axes>"
      ]
     },
     "metadata": {
      "needs_background": "light"
     },
     "output_type": "display_data"
    }
   ],
   "source": [
    "plt.plot(neighbors, mse)\n",
    "\n",
    "for xy in zip(neighbors, mse):\n",
    "    \n",
    "    plt.annotate('(%s %s)' % xy, xy = xy, xycoords = \"data\")\n",
    "    \n",
    "plt.xlabel(\"Number of Neighbors\")\n",
    "plt.ylabel(\"Missclassification Error\")\n",
    "plt.show()"
   ]
  },
  {
   "cell_type": "markdown",
   "metadata": {},
   "source": [
    "#### Determining optimal k"
   ]
  },
  {
   "cell_type": "code",
   "execution_count": 28,
   "metadata": {},
   "outputs": [],
   "source": [
    "min_mse = min(mse)"
   ]
  },
  {
   "cell_type": "code",
   "execution_count": 29,
   "metadata": {},
   "outputs": [],
   "source": [
    "min_mse_idx = mse.index(min_mse)"
   ]
  },
  {
   "cell_type": "code",
   "execution_count": 31,
   "metadata": {},
   "outputs": [
    {
     "name": "stdout",
     "output_type": "stream",
     "text": [
      "1\n"
     ]
    }
   ],
   "source": [
    "optimal_k = neighbors[min_mse_idx]\n",
    "print(optimal_k)"
   ]
  },
  {
   "cell_type": "markdown",
   "metadata": {},
   "source": [
    "#### KNN with optimal k Value"
   ]
  },
  {
   "cell_type": "code",
   "execution_count": 32,
   "metadata": {},
   "outputs": [
    {
     "data": {
      "text/plain": [
       "KNeighborsClassifier(algorithm='auto', leaf_size=30, metric='minkowski',\n",
       "                     metric_params=None, n_jobs=None, n_neighbors=1, p=2,\n",
       "                     weights='uniform')"
      ]
     },
     "execution_count": 32,
     "metadata": {},
     "output_type": "execute_result"
    }
   ],
   "source": [
    "final_clsfr = KNeighborsClassifier(n_neighbors=optimal_k)\n",
    "final_clsfr.fit(d_train, y_train)"
   ]
  },
  {
   "cell_type": "code",
   "execution_count": 33,
   "metadata": {},
   "outputs": [],
   "source": [
    "Y_hat = final_clsfr.predict(D_test)"
   ]
  },
  {
   "cell_type": "code",
   "execution_count": 34,
   "metadata": {},
   "outputs": [
    {
     "name": "stdout",
     "output_type": "stream",
     "text": [
      "0.9133333333333333\n"
     ]
    }
   ],
   "source": [
    "test_score = accuracy_score(Y_test, Y_hat)\n",
    "print(test_score)"
   ]
  }
 ],
 "metadata": {
  "kernelspec": {
   "display_name": "Python 3",
   "language": "python",
   "name": "python3"
  },
  "language_info": {
   "codemirror_mode": {
    "name": "ipython",
    "version": 3
   },
   "file_extension": ".py",
   "mimetype": "text/x-python",
   "name": "python",
   "nbconvert_exporter": "python",
   "pygments_lexer": "ipython3",
   "version": "3.7.0"
  }
 },
 "nbformat": 4,
 "nbformat_minor": 2
}
