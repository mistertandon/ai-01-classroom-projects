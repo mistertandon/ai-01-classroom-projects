{
 "cells": [
  {
   "cell_type": "code",
   "execution_count": 33,
   "metadata": {},
   "outputs": [],
   "source": [
    "import numpy as np\n",
    "from sklearn import datasets, neighbors"
   ]
  },
  {
   "cell_type": "code",
   "execution_count": 34,
   "metadata": {},
   "outputs": [],
   "source": [
    "import matplotlib.pyplot as plt\n",
    "from matplotlib.colors import ListedColormap"
   ]
  },
  {
   "cell_type": "code",
   "execution_count": 35,
   "metadata": {},
   "outputs": [],
   "source": [
    "%matplotlib inline"
   ]
  },
  {
   "cell_type": "code",
   "execution_count": 36,
   "metadata": {},
   "outputs": [
    {
     "name": "stdout",
     "output_type": "stream",
     "text": [
      "[[7.  3.2 0. ]\n",
      " [6.4 3.2 0. ]\n",
      " [6.9 3.1 0. ]]\n"
     ]
    }
   ],
   "source": [
    "data = np.genfromtxt(\"demo_data/6.overlap.csv\", delimiter = \",\")\n",
    "print(data[:3, :])"
   ]
  },
  {
   "cell_type": "code",
   "execution_count": 37,
   "metadata": {},
   "outputs": [
    {
     "data": {
      "image/png": "[encoded data removed]",
      "text/plain": [
       "<Figure size 432x288 with 1 Axes>"
      ]
     },
     "metadata": {
      "needs_background": "light"
     },
     "output_type": "display_data"
    }
   ],
   "source": [
    "def knn_comparision(data, n_neighbors):\n",
    "    \n",
    "    cmap_light = ListedColormap(['#FFAAAA',  '#AAAAFF'])\n",
    "    cmap_bold = ListedColormap(['#FF0000', '#0000FF'])\n",
    "    \n",
    "    x = data[:, :2]\n",
    "    y = data[:, 2]\n",
    "\n",
    "    x_min, x_max = x[:, 0].min() - 1, x[:, 0].max() + 1\n",
    "    y_min, y_max = x[:, 1].min() - 1, x[:, 1].max() + 1\n",
    "\n",
    "    clf = neighbors.KNeighborsClassifier(n_neighbors = n_neighbors)\n",
    "    clf.fit(x, y)\n",
    "    \n",
    "    xx, yy = np.meshgrid(np.arange(x_min, x_max, 0.02), np.arange(y_min, y_max, 0.02))\n",
    "\n",
    "    x__y = np.c_[xx.ravel(), yy.ravel()]\n",
    "\n",
    "    Z = clf.predict(x__y)\n",
    "    Z = Z.reshape(xx.shape)\n",
    "    \n",
    "    plt.figure()\n",
    "    \n",
    "    plt.pcolormesh(xx, yy, Z, cmap=cmap_light)\n",
    "    \n",
    "    plt.scatter(x[:, 0], x[:, 1], c=y, cmap = cmap_bold)\n",
    "    \n",
    "    plt.xlim(x_min, x_max)\n",
    "    plt.ylim(y_min, y_max)\n",
    "    \n",
    "    plt.title(\"K value = \"+str(n_neighbors))\n",
    "    \n",
    "    plt.show()\n",
    "    \n",
    "    return\n",
    "knn_comparision(data, 5)"
   ]
  }
 ],
 "metadata": {
  "kernelspec": {
   "display_name": "Python 3",
   "language": "python",
   "name": "python3"
  },
  "language_info": {
   "codemirror_mode": {
    "name": "ipython",
    "version": 3
   },
   "file_extension": ".py",
   "mimetype": "text/x-python",
   "name": "python",
   "nbconvert_exporter": "python",
   "pygments_lexer": "ipython3",
   "version": "3.7.0"
  }
 },
 "nbformat": 4,
 "nbformat_minor": 2
}
